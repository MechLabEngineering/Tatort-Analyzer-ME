{
 "metadata": {
  "name": ""
 },
 "nbformat": 3,
 "nbformat_minor": 0,
 "worksheets": [
  {
   "cells": [
    {
     "cell_type": "heading",
     "level": 1,
     "metadata": {},
     "source": [
      "Twitter 2 MongoDB"
     ]
    },
    {
     "cell_type": "markdown",
     "metadata": {},
     "source": [
      "Thanks to [this great Tutorial](http://www.danielforsyth.me/analyzing-a-nhl-playoff-game-with-twitter/), we made it for German #Tatort"
     ]
    },
    {
     "cell_type": "markdown",
     "metadata": {},
     "source": [
      "The following code takes all tweets with the keyword 'Tatort' and sends the time it was created, text of the tweet, location (if available), and the source of the tweet to a local [MongoDB](http://docs.mongodb.org/manual/installation/) database. "
     ]
    },
    {
     "cell_type": "code",
     "collapsed": false,
     "input": [
      "import tweepy\n",
      "import sys\n",
      "import pymongo\n",
      "import datetime"
     ],
     "language": "python",
     "metadata": {},
     "outputs": [],
     "prompt_number": 4
    },
    {
     "cell_type": "code",
     "collapsed": false,
     "input": [
      "hashtag = 'tatort'"
     ],
     "language": "python",
     "metadata": {},
     "outputs": [],
     "prompt_number": 17
    },
    {
     "cell_type": "code",
     "collapsed": false,
     "input": [
      "date = datetime.datetime.now()"
     ],
     "language": "python",
     "metadata": {},
     "outputs": [],
     "prompt_number": 19
    },
    {
     "cell_type": "markdown",
     "metadata": {},
     "source": [
      "Developer Authentification"
     ]
    },
    {
     "cell_type": "code",
     "collapsed": false,
     "input": [
      "# Get yours at https://dev.twitter.com//\n",
      "consumer_key=\"\"\n",
      "consumer_secret=\"\"\n",
      "\n",
      "access_token=\"\"\n",
      "access_token_secret=\"\""
     ],
     "language": "python",
     "metadata": {},
     "outputs": []
    },
    {
     "cell_type": "code",
     "collapsed": false,
     "input": [
      "auth = tweepy.OAuthHandler(consumer_key, consumer_secret)\n",
      "auth.set_access_token(access_token, access_token_secret)\n",
      "api = tweepy.API(auth)"
     ],
     "language": "python",
     "metadata": {},
     "outputs": []
    },
    {
     "cell_type": "code",
     "collapsed": false,
     "input": [
      "class CustomStreamListener(tweepy.StreamListener):\n",
      "    def __init__(self, api):\n",
      "        self.api = api\n",
      "        \n",
      "        super(tweepy.StreamListener, self).__init__()\n",
      "        \n",
      "        self.db = pymongo.MongoClient().TatortTweets\n",
      "\n",
      "    def on_status(self, status):\n",
      "        print status.text , \"\\n\"\n",
      "\n",
      "        data ={}\n",
      "        # Tweet\n",
      "        data['text'] = status.text\n",
      "        \n",
      "        # Metadata\n",
      "        data['created_at'] = status.created_at\n",
      "        data['replyto'] = status.in_reply_to_screen_name\n",
      "        data['geo'] = status.geo\n",
      "        data['source'] = status.source\n",
      "        \n",
      "        # Userdata\n",
      "        data['user'] = status.user.screen_name\n",
      "        data['userfriends'] = status.user.friends_count\n",
      "        data['follower'] = status.user.followers_count\n",
      "        \n",
      "\n",
      "        self.db.TatortTweets.insert(data)\n",
      "\n",
      "    def on_error(self, status_code):\n",
      "        print >> sys.stderr, 'Encountered error with status code:', status_code\n",
      "        return True # Don't kill the stream\n",
      "\n",
      "    def on_timeout(self):\n",
      "        print >> sys.stderr, 'Timeout...'\n",
      "        return True # Don't kill the stream"
     ],
     "language": "python",
     "metadata": {},
     "outputs": []
    },
    {
     "cell_type": "code",
     "collapsed": false,
     "input": [
      "print('Listening to Twitter for #%s...' % hashtag)"
     ],
     "language": "python",
     "metadata": {},
     "outputs": []
    },
    {
     "cell_type": "code",
     "collapsed": false,
     "input": [
      "sapi = tweepy.streaming.Stream(auth, CustomStreamListener(api))\n",
      "sapi.filter(track=[hashtag])"
     ],
     "language": "python",
     "metadata": {},
     "outputs": []
    },
    {
     "cell_type": "code",
     "collapsed": false,
     "input": [],
     "language": "python",
     "metadata": {},
     "outputs": []
    },
    {
     "cell_type": "code",
     "collapsed": false,
     "input": [],
     "language": "python",
     "metadata": {},
     "outputs": []
    }
   ],
   "metadata": {}
  }
 ]
}