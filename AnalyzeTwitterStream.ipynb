{
 "metadata": {
  "name": ""
 },
 "nbformat": 3,
 "nbformat_minor": 0,
 "worksheets": [
  {
   "cells": [
    {
     "cell_type": "heading",
     "level": 1,
     "metadata": {},
     "source": [
      "Analyse Twitter Stream for German #Tatort (\"Am Ende des Flurs\") on 04.05.2014"
     ]
    },
    {
     "cell_type": "markdown",
     "metadata": {},
     "source": [
      "![](http://www.daserste.de/unterhaltung/krimi/tatort/specials/die-kommissare-leitmayr-und-batic-102~_v-banner316_c9e2d0.jpg)\n",
      "**\u00bbI hob scho immer Frauen m\u00f6gn, wo ma \u00fcbern Zaun steigen muass.\u00ab**"
     ]
    },
    {
     "cell_type": "heading",
     "level": 3,
     "metadata": {},
     "source": [
      "OK, lets go..."
     ]
    },
    {
     "cell_type": "markdown",
     "metadata": {},
     "source": [
      "Hopefully, you have a local MongoDB up and running with all Tweets in it.\n",
      "\n",
      "You can start a Mongo Deamon with the Tweets in it with\n",
      "\n",
      "```\n",
      "mongod --dbpath db\n",
      "```"
     ]
    },
    {
     "cell_type": "markdown",
     "metadata": {},
     "source": [
      "First, import stuff we need."
     ]
    },
    {
     "cell_type": "code",
     "collapsed": false,
     "input": [
      "import pandas as pd\n",
      "from pandas.tseries.resample import TimeGrouper\n",
      "from pandas.tseries.offsets import DateOffset\n",
      "from pymongo import MongoClient\n",
      "import matplotlib.pyplot as plt\n",
      "from datetime import datetime\n",
      "%pylab inline --no-import-all"
     ],
     "language": "python",
     "metadata": {},
     "outputs": [
      {
       "output_type": "stream",
       "stream": "stdout",
       "text": [
        "Populating the interactive namespace from numpy and matplotlib\n"
       ]
      }
     ],
     "prompt_number": 1
    },
    {
     "cell_type": "markdown",
     "metadata": {},
     "source": [
      "Define functions to read the tweets out of the database. Thanks to [this](http://stackoverflow.com/a/16255680), I made this. "
     ]
    },
    {
     "cell_type": "code",
     "collapsed": false,
     "input": [
      "def _connect_mongo(host, port, username, password, db):\n",
      "    \"\"\" A util for making a connection to mongo \"\"\"\n",
      "\n",
      "    if username and password:\n",
      "        mongo_uri = 'mongodb://%s:%s@%s:%s/%s' % (username, password, host, port, db)\n",
      "        conn = MongoClient(mongo_uri)\n",
      "    else:\n",
      "        conn = MongoClient(host, port)\n",
      "\n",
      "\n",
      "    return conn[db]"
     ],
     "language": "python",
     "metadata": {},
     "outputs": [],
     "prompt_number": 2
    },
    {
     "cell_type": "code",
     "collapsed": false,
     "input": [
      "def read_mongo(db, collection, query={}, host='localhost', port=27017, username=None, password=None, no_id=True):\n",
      "    \"\"\" Read from Mongo and Store into DataFrame \"\"\"\n",
      "\n",
      "    # Connect to MongoDB\n",
      "    db = _connect_mongo(host=host, port=port, username=username, password=password, db=db)\n",
      "\n",
      "    # Make a query to the specific DB and Collection\n",
      "    cursor = db[collection].find(query)\n",
      "\n",
      "    # Expand the cursor and construct the DataFrame\n",
      "    df =  pd.DataFrame(list(cursor))\n",
      "\n",
      "    # Delete the _id\n",
      "    if no_id:\n",
      "        del df['_id']\n",
      "\n",
      "    return df"
     ],
     "language": "python",
     "metadata": {},
     "outputs": [],
     "prompt_number": 3
    },
    {
     "cell_type": "heading",
     "level": 1,
     "metadata": {},
     "source": [
      "Connect and get the Data out of the DB"
     ]
    },
    {
     "cell_type": "code",
     "collapsed": false,
     "input": [
      "hashtag = 'Tatort'"
     ],
     "language": "python",
     "metadata": {},
     "outputs": [],
     "prompt_number": 4
    },
    {
     "cell_type": "code",
     "collapsed": false,
     "input": [
      "dbname = 'TatortTweets'\n",
      "collection = 'TatortTweets'\n",
      "tweets = read_mongo(dbname, collection)"
     ],
     "language": "python",
     "metadata": {},
     "outputs": [],
     "prompt_number": 5
    },
    {
     "cell_type": "code",
     "collapsed": false,
     "input": [
      "tweets.set_index('created_at', inplace=True)\n",
      "tweets.index = tweets.index.tz_localize('GMT').tz_convert('CET')\n",
      "tweets.index.name = 'Zeit'\n",
      "tweets.index"
     ],
     "language": "python",
     "metadata": {},
     "outputs": [
      {
       "metadata": {},
       "output_type": "pyout",
       "prompt_number": 6,
       "text": [
        "<class 'pandas.tseries.index.DatetimeIndex'>\n",
        "[2014-05-04 18:27:41+02:00, ..., 2014-05-04 22:10:02+02:00]\n",
        "Length: 9963, Freq: None, Timezone: CET"
       ]
      }
     ],
     "prompt_number": 6
    },
    {
     "cell_type": "heading",
     "level": 3,
     "metadata": {},
     "source": [
      "Show something"
     ]
    },
    {
     "cell_type": "code",
     "collapsed": false,
     "input": [
      "tweets.tail(10)"
     ],
     "language": "python",
     "metadata": {},
     "outputs": [
      {
       "html": [
        "<div style=\"max-height:1000px;max-width:1500px;overflow:auto;\">\n",
        "<table border=\"1\" class=\"dataframe\">\n",
        "  <thead>\n",
        "    <tr style=\"text-align: right;\">\n",
        "      <th></th>\n",
        "      <th>follower</th>\n",
        "      <th>geo</th>\n",
        "      <th>replyto</th>\n",
        "      <th>source</th>\n",
        "      <th>text</th>\n",
        "      <th>user</th>\n",
        "      <th>userfriends</th>\n",
        "    </tr>\n",
        "    <tr>\n",
        "      <th>Zeit</th>\n",
        "      <th></th>\n",
        "      <th></th>\n",
        "      <th></th>\n",
        "      <th></th>\n",
        "      <th></th>\n",
        "      <th></th>\n",
        "      <th></th>\n",
        "    </tr>\n",
        "  </thead>\n",
        "  <tbody>\n",
        "    <tr>\n",
        "      <th>2014-05-04 22:09:25+02:00</th>\n",
        "      <td>   20</td>\n",
        "      <td> None</td>\n",
        "      <td>   None</td>\n",
        "      <td> Twitter for Android</td>\n",
        "      <td> Das offene Ende der heutigen Folge und die Twe...</td>\n",
        "      <td>    GuidoNeumann</td>\n",
        "      <td>   43</td>\n",
        "    </tr>\n",
        "    <tr>\n",
        "      <th>2014-05-04 22:09:35+02:00</th>\n",
        "      <td>  258</td>\n",
        "      <td> None</td>\n",
        "      <td>   None</td>\n",
        "      <td>    Twitter for iPad</td>\n",
        "      <td> Also, bei der Fallanalyse w\u00e4r ich sofort mit d...</td>\n",
        "      <td>       new_reads</td>\n",
        "      <td>  453</td>\n",
        "    </tr>\n",
        "    <tr>\n",
        "      <th>2014-05-04 22:09:41+02:00</th>\n",
        "      <td>   29</td>\n",
        "      <td> None</td>\n",
        "      <td>   None</td>\n",
        "      <td>       WordPress.com</td>\n",
        "      <td> Am Ende des Flurs \u2013 Tatort 910 / TatortAntholo...</td>\n",
        "      <td> DerWahlberliner</td>\n",
        "      <td>   35</td>\n",
        "    </tr>\n",
        "    <tr>\n",
        "      <th>2014-05-04 22:09:42+02:00</th>\n",
        "      <td>  499</td>\n",
        "      <td> None</td>\n",
        "      <td>   None</td>\n",
        "      <td>                 web</td>\n",
        "      <td> Der #tatort war ganz gut. Viel Gef\u00fchl und noch...</td>\n",
        "      <td>      kass_basel</td>\n",
        "      <td> 1035</td>\n",
        "    </tr>\n",
        "    <tr>\n",
        "      <th>2014-05-04 22:09:43+02:00</th>\n",
        "      <td>   10</td>\n",
        "      <td> None</td>\n",
        "      <td> Tatort</td>\n",
        "      <td>  Twitter for iPhone</td>\n",
        "      <td> @Tatort @BertInter \"Kroate\" ist man im Zweifel...</td>\n",
        "      <td>     TscheijPieh</td>\n",
        "      <td>   57</td>\n",
        "    </tr>\n",
        "    <tr>\n",
        "      <th>2014-05-04 22:09:43+02:00</th>\n",
        "      <td> 1606</td>\n",
        "      <td> None</td>\n",
        "      <td>   None</td>\n",
        "      <td>           TweetDeck</td>\n",
        "      <td> Muss das nicht schrecklich sein, wenn Menschen...</td>\n",
        "      <td>       hdBerretz</td>\n",
        "      <td> 1539</td>\n",
        "    </tr>\n",
        "    <tr>\n",
        "      <th>2014-05-04 22:09:47+02:00</th>\n",
        "      <td>  226</td>\n",
        "      <td> None</td>\n",
        "      <td> FrauPe</td>\n",
        "      <td> Twitter for Android</td>\n",
        "      <td> @FrauPe  im wirklichen Leben !! Hoffe auf n\u00e4ch...</td>\n",
        "      <td>          GVacek</td>\n",
        "      <td>  240</td>\n",
        "    </tr>\n",
        "    <tr>\n",
        "      <th>2014-05-04 22:09:51+02:00</th>\n",
        "      <td>   29</td>\n",
        "      <td> None</td>\n",
        "      <td>   None</td>\n",
        "      <td>        Tweet Button</td>\n",
        "      <td> Am Ende des Flurs - Tatort 910 / TatortAntholo...</td>\n",
        "      <td> DerWahlberliner</td>\n",
        "      <td>   35</td>\n",
        "    </tr>\n",
        "    <tr>\n",
        "      <th>2014-05-04 22:10:02+02:00</th>\n",
        "      <td>  540</td>\n",
        "      <td> None</td>\n",
        "      <td>   None</td>\n",
        "      <td>                 web</td>\n",
        "      <td> RT @karstenlucke: Guck' mal Mama ich bin im Fe...</td>\n",
        "      <td>      ardtext777</td>\n",
        "      <td>   81</td>\n",
        "    </tr>\n",
        "    <tr>\n",
        "      <th>2014-05-04 22:10:02+02:00</th>\n",
        "      <td>  179</td>\n",
        "      <td> None</td>\n",
        "      <td> Tatort</td>\n",
        "      <td>  Twitter for iPhone</td>\n",
        "      <td>               @Tatort bestes tatort seit langem\ud83d\udc4d</td>\n",
        "      <td>    camerlengo73</td>\n",
        "      <td>  333</td>\n",
        "    </tr>\n",
        "  </tbody>\n",
        "</table>\n",
        "<p>10 rows \u00d7 7 columns</p>\n",
        "</div>"
       ],
       "metadata": {},
       "output_type": "pyout",
       "prompt_number": 7,
       "text": [
        "                           follower   geo replyto               source  \\\n",
        "Zeit                                                                     \n",
        "2014-05-04 22:09:25+02:00        20  None    None  Twitter for Android   \n",
        "2014-05-04 22:09:35+02:00       258  None    None     Twitter for iPad   \n",
        "2014-05-04 22:09:41+02:00        29  None    None        WordPress.com   \n",
        "2014-05-04 22:09:42+02:00       499  None    None                  web   \n",
        "2014-05-04 22:09:43+02:00        10  None  Tatort   Twitter for iPhone   \n",
        "2014-05-04 22:09:43+02:00      1606  None    None            TweetDeck   \n",
        "2014-05-04 22:09:47+02:00       226  None  FrauPe  Twitter for Android   \n",
        "2014-05-04 22:09:51+02:00        29  None    None         Tweet Button   \n",
        "2014-05-04 22:10:02+02:00       540  None    None                  web   \n",
        "2014-05-04 22:10:02+02:00       179  None  Tatort   Twitter for iPhone   \n",
        "\n",
        "                                                                        text  \\\n",
        "Zeit                                                                           \n",
        "2014-05-04 22:09:25+02:00  Das offene Ende der heutigen Folge und die Twe...   \n",
        "2014-05-04 22:09:35+02:00  Also, bei der Fallanalyse w\u00e4r ich sofort mit d...   \n",
        "2014-05-04 22:09:41+02:00  Am Ende des Flurs \u2013 Tatort 910 / TatortAntholo...   \n",
        "2014-05-04 22:09:42+02:00  Der #tatort war ganz gut. Viel Gef\u00fchl und noch...   \n",
        "2014-05-04 22:09:43+02:00  @Tatort @BertInter \"Kroate\" ist man im Zweifel...   \n",
        "2014-05-04 22:09:43+02:00  Muss das nicht schrecklich sein, wenn Menschen...   \n",
        "2014-05-04 22:09:47+02:00  @FrauPe  im wirklichen Leben !! Hoffe auf n\u00e4ch...   \n",
        "2014-05-04 22:09:51+02:00  Am Ende des Flurs - Tatort 910 / TatortAntholo...   \n",
        "2014-05-04 22:10:02+02:00  RT @karstenlucke: Guck' mal Mama ich bin im Fe...   \n",
        "2014-05-04 22:10:02+02:00                @Tatort bestes tatort seit langem\ud83d\udc4d   \n",
        "\n",
        "                                      user  userfriends  \n",
        "Zeit                                                     \n",
        "2014-05-04 22:09:25+02:00     GuidoNeumann           43  \n",
        "2014-05-04 22:09:35+02:00        new_reads          453  \n",
        "2014-05-04 22:09:41+02:00  DerWahlberliner           35  \n",
        "2014-05-04 22:09:42+02:00       kass_basel         1035  \n",
        "2014-05-04 22:09:43+02:00      TscheijPieh           57  \n",
        "2014-05-04 22:09:43+02:00        hdBerretz         1539  \n",
        "2014-05-04 22:09:47+02:00           GVacek          240  \n",
        "2014-05-04 22:09:51+02:00  DerWahlberliner           35  \n",
        "2014-05-04 22:10:02+02:00       ardtext777           81  \n",
        "2014-05-04 22:10:02+02:00     camerlengo73          333  \n",
        "\n",
        "[10 rows x 7 columns]"
       ]
      }
     ],
     "prompt_number": 7
    },
    {
     "cell_type": "heading",
     "level": 2,
     "metadata": {},
     "source": [
      "Tweets per Minute"
     ]
    },
    {
     "cell_type": "code",
     "collapsed": false,
     "input": [
      "tweetsperminute = tweets['text'].resample('1t', how='count')"
     ],
     "language": "python",
     "metadata": {},
     "outputs": [],
     "prompt_number": 8
    },
    {
     "cell_type": "code",
     "collapsed": false,
     "input": [
      "plt.figure(figsize=(14,4))\n",
      "tweetsperminute.plot()\n",
      "plt.ylabel('#%s Tweets per Minute' % hashtag)"
     ],
     "language": "python",
     "metadata": {},
     "outputs": [
      {
       "metadata": {},
       "output_type": "pyout",
       "prompt_number": 10,
       "text": [
        "<matplotlib.text.Text at 0x10f0e7310>"
       ]
      },
      {
       "metadata": {},
       "output_type": "display_data",
       "png": "[encoded data removed]",
       "text": [
        "<matplotlib.figure.Figure at 0x10f0cab50>"
       ]
      }
     ],
     "prompt_number": 10
    },
    {
     "cell_type": "markdown",
     "metadata": {},
     "source": [
      "What do you think, when it started? :)"
     ]
    },
    {
     "cell_type": "heading",
     "level": 1,
     "metadata": {},
     "source": [
      "Define a Time Range to Analyze"
     ]
    },
    {
     "cell_type": "code",
     "collapsed": false,
     "input": [
      "fr = '201405042000'\n",
      "to = '201405042200'"
     ],
     "language": "python",
     "metadata": {},
     "outputs": [],
     "prompt_number": 11
    },
    {
     "cell_type": "heading",
     "level": 3,
     "metadata": {},
     "source": [
      "cut the data"
     ]
    },
    {
     "cell_type": "code",
     "collapsed": false,
     "input": [
      "tweets = tweets[fr:to]"
     ],
     "language": "python",
     "metadata": {},
     "outputs": [],
     "prompt_number": 12
    },
    {
     "cell_type": "heading",
     "level": 1,
     "metadata": {},
     "source": [
      "Localisation"
     ]
    },
    {
     "cell_type": "code",
     "collapsed": false,
     "input": [
      "from IPython.display import HTML\n",
      "import folium"
     ],
     "language": "python",
     "metadata": {},
     "outputs": [],
     "prompt_number": 13
    },
    {
     "cell_type": "markdown",
     "metadata": {},
     "source": [
      "Thanks to [this](http://nbviewer.ipython.org/gist/bburky/7763555/folium-ipython.ipynb)"
     ]
    },
    {
     "cell_type": "code",
     "collapsed": false,
     "input": [
      "def inline_map(map):\n",
      "    \"\"\"\n",
      "    Embeds the HTML source of the map directly into the IPython notebook.\n",
      "    \n",
      "    This method will not work if the map depends on any files (json data). Also this uses\n",
      "    the HTML5 srcdoc attribute, which may not be supported in all browsers.\n",
      "    \"\"\"\n",
      "    map._build_map()\n",
      "    return HTML('<iframe srcdoc=\"{srcdoc}\" style=\"width: 100%; height: 510px; border: none\"></iframe>'.format(srcdoc=map.HTML.replace('\"', '&quot;')))\n",
      "\n",
      "def embed_map(map, path=\"map.html\"):\n",
      "    \"\"\"\n",
      "    Embeds a linked iframe to the map into the IPython notebook.\n",
      "    \n",
      "    Note: this method will not capture the source of the map into the notebook.\n",
      "    This method should work for all maps (as long as they use relative urls).\n",
      "    \"\"\"\n",
      "    map.create_map(path=path)\n",
      "    return HTML('<iframe src=\"files/{path}\" style=\"width: 100%; height: 510px; border: none\"></iframe>'.format(path=path))"
     ],
     "language": "python",
     "metadata": {},
     "outputs": [],
     "prompt_number": 14
    },
    {
     "cell_type": "code",
     "collapsed": false,
     "input": [
      "locations = [l for l in tweets.geo.values if l!=None]"
     ],
     "language": "python",
     "metadata": {},
     "outputs": [],
     "prompt_number": 15
    },
    {
     "cell_type": "code",
     "collapsed": false,
     "input": [
      "map = folium.Map(location=[50, 10], zoom_start=5, tiles='Stamen Toner')\n",
      "for marker in locations:\n",
      "    map.simple_marker(marker.values()[1])\n",
      "embed_map(map)"
     ],
     "language": "python",
     "metadata": {},
     "outputs": [
      {
       "html": [
        "<iframe src=\"files/map.html\" style=\"width: 100%; height: 510px; border: none\"></iframe>"
       ],
       "metadata": {},
       "output_type": "pyout",
       "prompt_number": 16,
       "text": [
        "<IPython.core.display.HTML at 0x10fe83bd0>"
       ]
      }
     ],
     "prompt_number": 16
    },
    {
     "cell_type": "heading",
     "level": 1,
     "metadata": {},
     "source": [
      "Text Processing with the Natural Language Toolkit"
     ]
    },
    {
     "cell_type": "markdown",
     "metadata": {},
     "source": [
      "![](http://covers.oreilly.com/images/9780596516499/cat.gif)\n",
      "That great Book covers almost everything shown here:\n",
      "\n",
      "[Natural Language Processing with Python](http://www.nltk.org/book/)\n",
      "by Steven Bird, Ewan Klein, and Edward Loper\n",
      "O'Reilly Media, 2009"
     ]
    },
    {
     "cell_type": "code",
     "collapsed": false,
     "input": [
      "import nltk\n",
      "from nltk.corpus import stopwords\n",
      "from nltk import FreqDist\n",
      "\n",
      "text = tweets['text']"
     ],
     "language": "python",
     "metadata": {},
     "outputs": [],
     "prompt_number": 102
    },
    {
     "cell_type": "markdown",
     "metadata": {},
     "source": [
      "Common Words of a Language to filter out"
     ]
    },
    {
     "cell_type": "code",
     "collapsed": false,
     "input": [
      "stop_eng = stopwords.words('english')\n",
      "stop_ger = stopwords.words('german')\n",
      "customstopwords = ['tatort', 'mal', 'heute', 'gerade', 'erst', 'macht', 'eigentlich', 'warum', 'gibt', 'gar', 'immer', 'schon', 'beim', 'ganz', 'dass', 'wer', 'mehr', 'gleich', 'wohl']"
     ],
     "language": "python",
     "metadata": {},
     "outputs": [],
     "prompt_number": 103
    },
    {
     "cell_type": "markdown",
     "metadata": {},
     "source": [
      "Clean the Tweets from a bunch of stuff we are not interested in"
     ]
    },
    {
     "cell_type": "code",
     "collapsed": false,
     "input": [
      "tokens = []\n",
      "sentences = []\n",
      "for txt in text.values:\n",
      "    sentences.append(txt.lower())\n",
      "    tokens.extend([t.lower().encode('utf-8').strip(\":,.!?\") for t in txt.split()])\n",
      "\n",
      "hashtags = [w for w in tokens if w.startswith('#')]\n",
      "mentions = [w for w in tokens if w.startswith('@')]\n",
      "links = [w for w in tokens if w.startswith('http') or w.startswith('www')]\n",
      "filtered_tokens = [w for w in tokens \\\n",
      "                   if not w in stop_eng \\\n",
      "                   and not w in stop_ger \\\n",
      "                   and not w in customstopwords \\\n",
      "                   and w.isalpha() \\\n",
      "                   and not len(w)<3 \\\n",
      "                   and not w in hashtags \\\n",
      "                   and not w in links \\\n",
      "                   and not w in mentions]"
     ],
     "language": "python",
     "metadata": {},
     "outputs": [],
     "prompt_number": 104
    },
    {
     "cell_type": "heading",
     "level": 2,
     "metadata": {},
     "source": [
      "Top 30 Words"
     ]
    },
    {
     "cell_type": "code",
     "collapsed": false,
     "input": [
      "freq_dist = nltk.FreqDist(filtered_tokens)\n",
      "freq_dist"
     ],
     "language": "python",
     "metadata": {},
     "outputs": [
      {
       "metadata": {},
       "output_type": "pyout",
       "prompt_number": 105,
       "text": [
        "<FreqDist with 7850 samples and 31923 outcomes>"
       ]
      }
     ],
     "prompt_number": 105
    },
    {
     "cell_type": "code",
     "collapsed": false,
     "input": [
      "plt.figure(figsize=(16,5))\n",
      "plt.xticks(size=16)\n",
      "freq_dist.plot(31)"
     ],
     "language": "python",
     "metadata": {},
     "outputs": [
      {
       "metadata": {},
       "output_type": "display_data",
       "png": "[encoded data removed]",
       "text": [
        "<matplotlib.figure.Figure at 0x112720b90>"
       ]
      }
     ],
     "prompt_number": 106
    },
    {
     "cell_type": "heading",
     "level": 2,
     "metadata": {},
     "source": [
      "When does the community got, who the murderer was?"
     ]
    },
    {
     "cell_type": "markdown",
     "metadata": {},
     "source": [
      "The murderer was the neighbour Ms H\u00f6llerer, an pharmacist ([ger] 'Apothekerin')"
     ]
    },
    {
     "cell_type": "code",
     "collapsed": false,
     "input": [
      "tweets[tweets.text.str.contains('Apothekerin')==True][['user','text','follower']].head(5)"
     ],
     "language": "python",
     "metadata": {},
     "outputs": [
      {
       "html": [
        "<div style=\"max-height:1000px;max-width:1500px;overflow:auto;\">\n",
        "<table border=\"1\" class=\"dataframe\">\n",
        "  <thead>\n",
        "    <tr style=\"text-align: right;\">\n",
        "      <th></th>\n",
        "      <th>user</th>\n",
        "      <th>text</th>\n",
        "      <th>follower</th>\n",
        "    </tr>\n",
        "    <tr>\n",
        "      <th>Zeit</th>\n",
        "      <th></th>\n",
        "      <th></th>\n",
        "      <th></th>\n",
        "    </tr>\n",
        "  </thead>\n",
        "  <tbody>\n",
        "    <tr>\n",
        "      <th>2014-05-04 20:26:32+02:00</th>\n",
        "      <td> T34_unstoppable</td>\n",
        "      <td> #Tatort: Der \u00fcbereifrige Praktikant nervt etwa...</td>\n",
        "      <td>   9</td>\n",
        "    </tr>\n",
        "    <tr>\n",
        "      <th>2014-05-04 20:54:32+02:00</th>\n",
        "      <td>      ClaudeeyaS</td>\n",
        "      <td>         Ha, die Apothekerin war's, oder?! #tatort</td>\n",
        "      <td> 138</td>\n",
        "    </tr>\n",
        "    <tr>\n",
        "      <th>2014-05-04 20:54:54+02:00</th>\n",
        "      <td>         S_Jahns</td>\n",
        "      <td> Die Apothekerin wars! Das kenn ich irgendwo he...</td>\n",
        "      <td>  19</td>\n",
        "    </tr>\n",
        "    <tr>\n",
        "      <th>2014-05-04 20:55:38+02:00</th>\n",
        "      <td>          RALupo</td>\n",
        "      <td> Die Apothekerin kannte sie etwas besser. - Wom...</td>\n",
        "      <td> 427</td>\n",
        "    </tr>\n",
        "    <tr>\n",
        "      <th>2014-05-04 20:55:51+02:00</th>\n",
        "      <td>    MichaelWei15</td>\n",
        "      <td> Die Apothekerin auf der gleichen Etage hat den...</td>\n",
        "      <td>   0</td>\n",
        "    </tr>\n",
        "  </tbody>\n",
        "</table>\n",
        "<p>5 rows \u00d7 3 columns</p>\n",
        "</div>"
       ],
       "metadata": {},
       "output_type": "pyout",
       "prompt_number": 21,
       "text": [
        "                                      user  \\\n",
        "Zeit                                         \n",
        "2014-05-04 20:26:32+02:00  T34_unstoppable   \n",
        "2014-05-04 20:54:32+02:00       ClaudeeyaS   \n",
        "2014-05-04 20:54:54+02:00          S_Jahns   \n",
        "2014-05-04 20:55:38+02:00           RALupo   \n",
        "2014-05-04 20:55:51+02:00     MichaelWei15   \n",
        "\n",
        "                                                                        text  \\\n",
        "Zeit                                                                           \n",
        "2014-05-04 20:26:32+02:00  #Tatort: Der \u00fcbereifrige Praktikant nervt etwa...   \n",
        "2014-05-04 20:54:32+02:00          Ha, die Apothekerin war's, oder?! #tatort   \n",
        "2014-05-04 20:54:54+02:00  Die Apothekerin wars! Das kenn ich irgendwo he...   \n",
        "2014-05-04 20:55:38+02:00  Die Apothekerin kannte sie etwas besser. - Wom...   \n",
        "2014-05-04 20:55:51+02:00  Die Apothekerin auf der gleichen Etage hat den...   \n",
        "\n",
        "                           follower  \n",
        "Zeit                                 \n",
        "2014-05-04 20:26:32+02:00         9  \n",
        "2014-05-04 20:54:32+02:00       138  \n",
        "2014-05-04 20:54:54+02:00        19  \n",
        "2014-05-04 20:55:38+02:00       427  \n",
        "2014-05-04 20:55:51+02:00         0  \n",
        "\n",
        "[5 rows x 3 columns]"
       ]
      }
     ],
     "prompt_number": 21
    },
    {
     "cell_type": "markdown",
     "metadata": {},
     "source": [
      "Congrats [@ClaudeeyaS](https://twitter.com/ClaudeeyaS/status/463028923178418176), you are the first one on Twitter, who got it!"
     ]
    },
    {
     "cell_type": "code",
     "collapsed": false,
     "input": [
      "Let's take a look at the "
     ],
     "language": "python",
     "metadata": {},
     "outputs": []
    },
    {
     "cell_type": "code",
     "collapsed": false,
     "input": [
      "plt.figure(figsize=(16,5))\n",
      "tweets.text.str.contains(u\"apothekerin\").resample('1t').plot(label='Apothekerin')\n",
      "tweets.text.str.contains(u\"H\u00f6llerer\").resample('1t').plot(label='H\u00f6llerer')\n",
      "plt.legend(loc='best')\n",
      "plt.axvline(datetime(2014, 5, 4, 18, 15, 0, 0), label='Begin', color='k', alpha=0.6)\n",
      "plt.axvline(datetime(2014, 5, 4, 19, 45, 0, 0), label='End', color='k', alpha=0.6)"
     ],
     "language": "python",
     "metadata": {},
     "outputs": [
      {
       "metadata": {},
       "output_type": "pyout",
       "prompt_number": 23,
       "text": [
        "<matplotlib.lines.Line2D at 0x10ee48090>"
       ]
      },
      {
       "metadata": {},
       "output_type": "display_data",
       "png": "[encoded data removed]",
       "text": [
        "<matplotlib.figure.Figure at 0x10ee283d0>"
       ]
      }
     ],
     "prompt_number": 23
    },
    {
     "cell_type": "markdown",
     "metadata": {},
     "source": [
      "The Tatort ended at 21:45, the peaks with `Apothekerin` after that are reviews and mostly, because it was Trending Topic and so the bots came to use the hashtag while real people ended writing about #Tatort."
     ]
    },
    {
     "cell_type": "code",
     "collapsed": false,
     "input": [
      "tweets[tweets.text.str.contains('Apothekerin')==True]['201405042145':][['user','text','follower']].sort('follower', ascending=False).head(10)"
     ],
     "language": "python",
     "metadata": {},
     "outputs": [
      {
       "html": [
        "<div style=\"max-height:1000px;max-width:1500px;overflow:auto;\">\n",
        "<table border=\"1\" class=\"dataframe\">\n",
        "  <thead>\n",
        "    <tr style=\"text-align: right;\">\n",
        "      <th></th>\n",
        "      <th>user</th>\n",
        "      <th>text</th>\n",
        "      <th>follower</th>\n",
        "    </tr>\n",
        "    <tr>\n",
        "      <th>Zeit</th>\n",
        "      <th></th>\n",
        "      <th></th>\n",
        "      <th></th>\n",
        "    </tr>\n",
        "  </thead>\n",
        "  <tbody>\n",
        "    <tr>\n",
        "      <th>2014-05-04 21:50:27+02:00</th>\n",
        "      <td>          Tatort</td>\n",
        "      <td> Ok, Apothekerin ist Trending Topic. #apotheker...</td>\n",
        "      <td> 53848</td>\n",
        "    </tr>\n",
        "    <tr>\n",
        "      <th>2014-05-04 21:51:38+02:00</th>\n",
        "      <td>       Die_Mutti</td>\n",
        "      <td> \u201c@trendinaliaDE: Tweet with the most impact of...</td>\n",
        "      <td>  9020</td>\n",
        "    </tr>\n",
        "    <tr>\n",
        "      <th>2014-05-04 21:45:47+02:00</th>\n",
        "      <td>    DerSchwatten</td>\n",
        "      <td> RT @Tatort: Gruselig, diese Apothekerin, oder?...</td>\n",
        "      <td>  1529</td>\n",
        "    </tr>\n",
        "    <tr>\n",
        "      <th>2014-05-04 21:49:24+02:00</th>\n",
        "      <td>   trendinaliaDE</td>\n",
        "      <td> RT @Tatort: Gruselig, diese Apothekerin, oder?...</td>\n",
        "      <td>  1369</td>\n",
        "    </tr>\n",
        "    <tr>\n",
        "      <th>2014-05-04 21:49:19+02:00</th>\n",
        "      <td>   trendinaliaDE</td>\n",
        "      <td> 3 verified accounts helped to turn 'Apothekeri...</td>\n",
        "      <td>  1369</td>\n",
        "    </tr>\n",
        "    <tr>\n",
        "      <th>2014-05-04 21:47:56+02:00</th>\n",
        "      <td>         Srevilo</td>\n",
        "      <td> Gollum Assoziationen bei der Apothekerin. #Tatort</td>\n",
        "      <td>  1108</td>\n",
        "    </tr>\n",
        "    <tr>\n",
        "      <th>2014-05-04 21:51:45+02:00</th>\n",
        "      <td>    GrafvonMonte</td>\n",
        "      <td> RT @ChrickifromHell: Heute bin ich sehr zufrie...</td>\n",
        "      <td>  1058</td>\n",
        "    </tr>\n",
        "    <tr>\n",
        "      <th>2014-05-04 21:49:23+02:00</th>\n",
        "      <td>    trendinalios</td>\n",
        "      <td> RT @Tatort: Gruselig, diese Apothekerin, oder?...</td>\n",
        "      <td>  1027</td>\n",
        "    </tr>\n",
        "    <tr>\n",
        "      <th>2014-05-04 22:00:08+02:00</th>\n",
        "      <td> derschutzpatron</td>\n",
        "      <td> Durchgeknallte Apothekerin im Tatort. An wen e...</td>\n",
        "      <td>   860</td>\n",
        "    </tr>\n",
        "    <tr>\n",
        "      <th>2014-05-04 21:49:50+02:00</th>\n",
        "      <td>      schmarsten</td>\n",
        "      <td> Toller #Tatort. Gute Nacht Apotheker und Apoth...</td>\n",
        "      <td>   855</td>\n",
        "    </tr>\n",
        "  </tbody>\n",
        "</table>\n",
        "<p>10 rows \u00d7 3 columns</p>\n",
        "</div>"
       ],
       "metadata": {},
       "output_type": "pyout",
       "prompt_number": 24,
       "text": [
        "                                      user  \\\n",
        "Zeit                                         \n",
        "2014-05-04 21:50:27+02:00           Tatort   \n",
        "2014-05-04 21:51:38+02:00        Die_Mutti   \n",
        "2014-05-04 21:45:47+02:00     DerSchwatten   \n",
        "2014-05-04 21:49:24+02:00    trendinaliaDE   \n",
        "2014-05-04 21:49:19+02:00    trendinaliaDE   \n",
        "2014-05-04 21:47:56+02:00          Srevilo   \n",
        "2014-05-04 21:51:45+02:00     GrafvonMonte   \n",
        "2014-05-04 21:49:23+02:00     trendinalios   \n",
        "2014-05-04 22:00:08+02:00  derschutzpatron   \n",
        "2014-05-04 21:49:50+02:00       schmarsten   \n",
        "\n",
        "                                                                        text  \\\n",
        "Zeit                                                                           \n",
        "2014-05-04 21:50:27+02:00  Ok, Apothekerin ist Trending Topic. #apotheker...   \n",
        "2014-05-04 21:51:38+02:00  \u201c@trendinaliaDE: Tweet with the most impact of...   \n",
        "2014-05-04 21:45:47+02:00  RT @Tatort: Gruselig, diese Apothekerin, oder?...   \n",
        "2014-05-04 21:49:24+02:00  RT @Tatort: Gruselig, diese Apothekerin, oder?...   \n",
        "2014-05-04 21:49:19+02:00  3 verified accounts helped to turn 'Apothekeri...   \n",
        "2014-05-04 21:47:56+02:00  Gollum Assoziationen bei der Apothekerin. #Tatort   \n",
        "2014-05-04 21:51:45+02:00  RT @ChrickifromHell: Heute bin ich sehr zufrie...   \n",
        "2014-05-04 21:49:23+02:00  RT @Tatort: Gruselig, diese Apothekerin, oder?...   \n",
        "2014-05-04 22:00:08+02:00  Durchgeknallte Apothekerin im Tatort. An wen e...   \n",
        "2014-05-04 21:49:50+02:00  Toller #Tatort. Gute Nacht Apotheker und Apoth...   \n",
        "\n",
        "                           follower  \n",
        "Zeit                                 \n",
        "2014-05-04 21:50:27+02:00     53848  \n",
        "2014-05-04 21:51:38+02:00      9020  \n",
        "2014-05-04 21:45:47+02:00      1529  \n",
        "2014-05-04 21:49:24+02:00      1369  \n",
        "2014-05-04 21:49:19+02:00      1369  \n",
        "2014-05-04 21:47:56+02:00      1108  \n",
        "2014-05-04 21:51:45+02:00      1058  \n",
        "2014-05-04 21:49:23+02:00      1027  \n",
        "2014-05-04 22:00:08+02:00       860  \n",
        "2014-05-04 21:49:50+02:00       855  \n",
        "\n",
        "[10 rows x 3 columns]"
       ]
      }
     ],
     "prompt_number": 24
    },
    {
     "cell_type": "heading",
     "level": 2,
     "metadata": {},
     "source": [
      "Concordance"
     ]
    },
    {
     "cell_type": "markdown",
     "metadata": {},
     "source": [
      "Use of the same word in context"
     ]
    },
    {
     "cell_type": "heading",
     "level": 4,
     "metadata": {},
     "source": [
      "Praktikant"
     ]
    },
    {
     "cell_type": "code",
     "collapsed": false,
     "input": [
      "tweettokens = nltk.wordpunct_tokenize(unicode(sentences))\n",
      "rawtweettext = nltk.Text(tweettokens)\n",
      "rawtweettext.concordance(\"praktikant\")"
     ],
     "language": "python",
     "metadata": {},
     "outputs": [
      {
       "output_type": "stream",
       "stream": "stdout",
       "text": [
        "Building index...\n",
        "Displaying 25 of 47 matches:"
       ]
      },
      {
       "output_type": "stream",
       "stream": "stdout",
       "text": [
        "\n",
        "atort ', u ' wie alt ist denn der praktikant ? # tatort ', u ' so jung und und\n",
        " polizist im # tatort ?', u ' der praktikant ist ja der hammer . # tatort ', u\n",
        "rpennt # tatort ', u ' der bubi - praktikant geht mir auf den keks ! wer soll \n",
        "st ! # tatort ', u ' ist der herr praktikant schon vollj \\ xe4hrig ? # tatort \n",
        "t dieser bubi der neue unbezahlte praktikant im # tatort ?', u ' sie ist eine \n",
        "er ist denn dieser 12j \\ xe4hrige praktikant mit adhs ? # tatort ', u ' rt @ u\n",
        "wer ist denn diese lachnummer von praktikant ? # tatort ', u ' der neue assist\n",
        "er ist denn dieser 12j \\ xe4hrige praktikant mit adhs ? # tatort ', u ' haben \n",
        " ' wie alt ist der nervige adhs - praktikant ? 12 ? # tatort ', u ' ich mach j\n",
        "u '# tatort : der \\ xfcbereifrige praktikant nervt etwas . und \" parodexan \" g\n",
        " jetzt schon aufn keks ', u ' der praktikant nervt ! # tatort ', u ' ich glaub\n",
        "tort ', u ' ich glaube der bogy - praktikant hat zuviel csi gesehen # tatort '\n",
        ", u '# tatort wer ist der junge ? praktikant ?', u ' top motiviert der neue # \n",
        " ?', u ' top motiviert der neue # praktikant - lasst die jungen auch mal ran !\n",
        " sozialkritik im # tatort .\\ nals praktikant auf keinen fall den ermittlern mi\n",
        "enig , dass er sich als polizei - praktikant verdingen muss ? und holt goetze \n",
        "atort mitteilen ?', u ' wow , der praktikant darf schon eine wumme tragen # ta\n",
        "ub bei der polizei ? ist der dort praktikant oder was ? # tatort ', u ' pornot\n",
        "at sie nie ...\" super !', u ' der praktikant darf wichtigtuerisch rumtelefonie\n",
        "ort ', u ' hat der 12j \\ xe4hrige praktikant auch das heutige drehbuch geschri\n",
        ", hmmm was soll ich sagen ... der praktikant ist ... ja nett # tatort ', u ' r\n",
        " ', u '@ miss__jeanne das hat der praktikant im tatort behauptet ;-)', u ' fre\n",
        " # tatort . koennte auch der neue praktikant sein ?', u ' dat is die pilzkopfd\n",
        "ine z \\ xe4hlt nicht !)', u ' der praktikant darf mit ner knarre rumlaufen ? #\n",
        "achwuchs ein chance :-)', u ' der praktikant hat eine knarre ??? # tatort ', u\n"
       ]
      }
     ],
     "prompt_number": 25
    },
    {
     "cell_type": "heading",
     "level": 4,
     "metadata": {},
     "source": [
      "What else the community said to the young man?"
     ]
    },
    {
     "cell_type": "code",
     "collapsed": false,
     "input": [
      "rawtweettext.similar('praktikant')"
     ],
     "language": "python",
     "metadata": {},
     "outputs": [
      {
       "output_type": "stream",
       "stream": "stdout",
       "text": [
        "Building word-context index...\n",
        "tatort franz bubi chef m neue assistent azubi batic jetzt junge kalli\n",
        "kleine leitmayr mann panamera polizei song alte apothekerin"
       ]
      },
      {
       "output_type": "stream",
       "stream": "stdout",
       "text": [
        "\n"
       ]
      }
     ],
     "prompt_number": 26
    },
    {
     "cell_type": "heading",
     "level": 4,
     "metadata": {},
     "source": [
      "(Justin) Bieber"
     ]
    },
    {
     "cell_type": "code",
     "collapsed": false,
     "input": [
      "rawtweettext.concordance(\"Bieber\")"
     ],
     "language": "python",
     "metadata": {},
     "outputs": [
      {
       "output_type": "stream",
       "stream": "stdout",
       "text": [
        "Displaying 25 of 52 matches:\n",
        " sagen . # tatort ', u ' hat justin bieber n neues n job ? # tatort ', u ' tat\n",
        "tort hat \\ xe4hnlichkeit mit justin bieber , oder ? \\ n \\ nwenn ihr mir jetzt \n",
        " ' rt @ sonderstellung : hat justin bieber n neues n job ? # tatort ', u ' ab \n",
        " ' rt @ sonderstellung : hat justin bieber n neues n job ? # tatort ', u ' und\n",
        " ' n kopf stellen \", u ' der justin bieber der mordkommission # tatort ', u ' \n",
        "rehte , bayerisch sprechende justin bieber geht mir jetzt schon auf den keks .\n",
        " u ' rt @ miss_stresss : der justin bieber der mordkommission # tatort ', u \" \n",
        "viert .', u ' der bayerische justin bieber . # tatort ', u ' ob die ger \\ xfcc\n",
        " u ' rt @ miss_stresss : der justin bieber der mordkommission # tatort ', u ' \n",
        ", u ' wer fand denn diesen justin - bieber - assistenten eine gute idee ? # ta\n",
        "eren . # tatort ', u ' sucht justin bieber noch seinen affen in m \\ xfcnchen u\n",
        "u ' was ist das f \\ xfcr ein justin bieber verschnitt bei der polizei ? # tato\n",
        " # tatort ', u '# tatort hat justin bieber eigentlich schon den f \\ xfchrersch\n",
        "tze aus .', u ' wer gibt dem justin bieber bzw karli vom # tatort ne waffe ???\n",
        "r vor . # tatort ', u ' muss justin bieber bei der m \\ xfcnchner polizei sozia\n",
        "atort !!', u ' ist das jetzt justin bieber oder manuel neuer ?\\ n # tatort ', \n",
        " ' rt @ annahascoffee : muss justin bieber bei der m \\ xfcnchner polizei sozia\n",
        " ' rt @ annahascoffee : muss justin bieber bei der m \\ xfcnchner polizei sozia\n",
        " ' rt @ annahascoffee : muss justin bieber bei der m \\ xfcnchner polizei sozia\n",
        "zwischenstand zum # tatort : justin bieber ist neuer assistent . und holzf \\ x\n",
        "zwischenstand zum # tatort : justin bieber ist neuer assistent . und holzf \\ x\n",
        "zwischenstand zum # tatort : justin bieber ist neuer assistent . und holzf \\ x\n",
        "zwischenstand zum # tatort : justin bieber ist neuer assistent . und holzf \\ x\n",
        "zwischenstand zum # tatort : justin bieber ist neuer assistent . und holzf \\ x\n",
        "zwischenstand zum # tatort : justin bieber ist neuer assistent . und holzf \\ x\n"
       ]
      }
     ],
     "prompt_number": 27
    },
    {
     "cell_type": "heading",
     "level": 2,
     "metadata": {},
     "source": [
      "Collocations"
     ]
    },
    {
     "cell_type": "markdown",
     "metadata": {},
     "source": [
      "In corpus linguistics, a collocation is a sequence of words or terms that co-occur more often than would be expected by chance."
     ]
    },
    {
     "cell_type": "code",
     "collapsed": false,
     "input": [
      "tweettext = nltk.Text(filtered_tokens)\n",
      "tweettext.collocations()"
     ],
     "language": "python",
     "metadata": {},
     "outputs": [
      {
       "output_type": "stream",
       "stream": "stdout",
       "text": [
        "Building collocations list\n",
        "mike hansen; justin bieber; franz xaver; xaver kroetz; waylon\n",
        "jennings; hauptkommissar kroate; johnny cash; umgedrehte frage;\n",
        "kontakte ehen; eigene faust; frage gelesen; googletreffern sucht;\n",
        "domain frei; parodexan domain; beatrice richter; ketty lester; wort\n",
        "googletreffern; sucht parodexan; tanten holen; neuen assistenten"
       ]
      },
      {
       "output_type": "stream",
       "stream": "stdout",
       "text": [
        "\n"
       ]
      }
     ],
     "prompt_number": 28
    },
    {
     "cell_type": "heading",
     "level": 2,
     "metadata": {},
     "source": [
      "Search for Words"
     ]
    },
    {
     "cell_type": "code",
     "collapsed": false,
     "input": [
      "fdist = nltk.FreqDist([w.lower() for w in tweettext])\n",
      "modals = ['apothekerin', 'angst', 'leitmayr', 'nutte', 'messer', 'irre', 'professionelle', 'praktikant']\n",
      "for m in modals:\n",
      "    print m + ':', fdist[m],"
     ],
     "language": "python",
     "metadata": {},
     "outputs": [
      {
       "output_type": "stream",
       "stream": "stdout",
       "text": [
        "apothekerin: 230 angst: 26 leitmayr: 196 nutte: 32 messer: 26 irre: 39 professionelle: 27 praktikant: 40\n"
       ]
      }
     ],
     "prompt_number": 29
    },
    {
     "cell_type": "heading",
     "level": 2,
     "metadata": {},
     "source": [
      "Names in this Tatort"
     ]
    },
    {
     "cell_type": "code",
     "collapsed": false,
     "input": [
      "names = nltk.corpus.names"
     ],
     "language": "python",
     "metadata": {},
     "outputs": [],
     "prompt_number": 30
    },
    {
     "cell_type": "code",
     "collapsed": false,
     "input": [
      "namen = [n.lower().encode('utf-8') for n in names.words('male.txt') or names.words('female.txt')]"
     ],
     "language": "python",
     "metadata": {},
     "outputs": [],
     "prompt_number": 31
    },
    {
     "cell_type": "code",
     "collapsed": false,
     "input": [
      "name_freq = nltk.FreqDist([w for w in filtered_tokens if w in namen])"
     ],
     "language": "python",
     "metadata": {},
     "outputs": [],
     "prompt_number": 32
    },
    {
     "cell_type": "code",
     "collapsed": false,
     "input": [
      "name_freq.plot(6)"
     ],
     "language": "python",
     "metadata": {},
     "outputs": [
      {
       "metadata": {},
       "output_type": "display_data",
       "png": "[encoded data removed]",
       "text": [
        "<matplotlib.figure.Figure at 0x10ee3fa90>"
       ]
      }
     ],
     "prompt_number": 33
    },
    {
     "cell_type": "code",
     "collapsed": false,
     "input": [
      "s = []\n",
      "x = []\n",
      "y = []\n",
      "for val in name_freq.values():\n",
      "    sn = float(val)/np.max(name_freq.values()) # Normalize\n",
      "    if sn<0.11:  # ignore unimportant names below this\n",
      "        continue\n",
      "    s.append((100.0*sn)**2) # size of bubble\n",
      "da = 2.0*np.pi/(len(s)-1)\n",
      "for p in range(len(s)):\n",
      "    a=p*da   # angle\n",
      "    r=0.1/np.sqrt(s[p])\n",
      "    if p==0: # most important name in the middle\n",
      "        plt.text(0,0,name_freq.keys()[p], ha='center', va='center')\n",
      "        x.append(0)\n",
      "        y.append(0)\n",
      "    else:\n",
      "        plt.text(np.cos(a)*r,np.sin(a)*r,name_freq.keys()[p], ha='center', va='center')\n",
      "        x.append(np.cos(a)*r)\n",
      "        y.append(np.sin(a)*r)\n",
      "        \n",
      "# Plot it\n",
      "plt.scatter(x=x, y=y, s=s, alpha=0.5)\n",
      "plt.axis('equal')\n",
      "plt.axis('off');\n",
      "plt.title('important people in #%s' % hashtag);\n",
      "plt.savefig('important-people-%s.png' % hashtag, bbox_inches='tight', dpi=300)"
     ],
     "language": "python",
     "metadata": {},
     "outputs": [
      {
       "metadata": {},
       "output_type": "display_data",
       "png": "[encoded data removed]",
       "text": [
        "<matplotlib.figure.Figure at 0x110ecee90>"
       ]
      }
     ],
     "prompt_number": 34
    },
    {
     "cell_type": "markdown",
     "metadata": {},
     "source": [
      "People named the assistant `Justin Bieber`, music was not from `Johnny Cash` but from `Waylon Jenning`. And obviously, `Mike 'Magnum' Hansen` was famous."
     ]
    },
    {
     "cell_type": "heading",
     "level": 2,
     "metadata": {},
     "source": [
      "Dispersion Plot"
     ]
    },
    {
     "cell_type": "markdown",
     "metadata": {},
     "source": [
      "Determine the location of a word in the text: how many words from the beginning it appears. This positional information can be displayed using a dispersion plot."
     ]
    },
    {
     "cell_type": "code",
     "collapsed": false,
     "input": [
      "plt.figure(figsize=(16,2))\n",
      "rawtweettext.dispersion_plot([\"franz\", u\"mike\", \"justin\", \"johnny\"])"
     ],
     "language": "python",
     "metadata": {},
     "outputs": [
      {
       "metadata": {},
       "output_type": "display_data",
       "png": "[encoded data removed]",
       "text": [
        "<matplotlib.figure.Figure at 0x110ec98d0>"
       ]
      }
     ],
     "prompt_number": 35
    },
    {
     "cell_type": "heading",
     "level": 2,
     "metadata": {},
     "source": [
      "Sentiment Analysis"
     ]
    },
    {
     "cell_type": "markdown",
     "metadata": {},
     "source": [
      "Use [SentiWS](http://asv.informatik.uni-leipzig.de/download/sentiws.html) as training set.\n",
      "\n",
      "```\n",
      "R. Remus, U. Quasthoff & G. Heyer: SentiWS - a Publicly Available German-language Resource for Sentiment Analysis.\n",
      "In: Proceedings of the 7th International Language Ressources and Evaluation (LREC'10), pp. 1168--1171, 2010\n",
      "\n",
      "SentiWS is licensed under a Creative Commons Attribution-Noncommercial-Share Alike 3.0 Unported License.\n",
      "```"
     ]
    },
    {
     "cell_type": "code",
     "collapsed": false,
     "input": [
      "training_set=[]"
     ],
     "language": "python",
     "metadata": {},
     "outputs": [],
     "prompt_number": 36
    },
    {
     "cell_type": "code",
     "collapsed": false,
     "input": [
      "import csv\n",
      "poswords = csv.reader(open('SentiWS_v1.8c/SentiWS_v1.8c_Positive.txt', 'rb'), delimiter='|')\n",
      "training_set.extend([(pos[0].lower(), 'positive') for pos in poswords])"
     ],
     "language": "python",
     "metadata": {},
     "outputs": [],
     "prompt_number": 37
    },
    {
     "cell_type": "code",
     "collapsed": false,
     "input": [
      "negwords = csv.reader(open('SentiWS_v1.8c/SentiWS_v1.8c_Negative.txt', 'rb'), delimiter='|')\n",
      "training_set.extend([(neg[0].lower(), 'negative') for neg in negwords])"
     ],
     "language": "python",
     "metadata": {},
     "outputs": [],
     "prompt_number": 38
    },
    {
     "cell_type": "markdown",
     "metadata": {},
     "source": [
      "Additionally, you may want to specify positive or negative tweet examples:"
     ]
    },
    {
     "cell_type": "code",
     "collapsed": false,
     "input": [
      "pos_tweet = ['Das war ein guter', \\\n",
      "             'Spitze', \\\n",
      "             'Guter', \\\n",
      "             'spannend bis zum schluss', \\\n",
      "             'bester tatort seit langem', \\\n",
      "             'top', \\\n",
      "             'Ein skurriler tatort heut. #ilike', \\\n",
      "             'erstaunlich guter', \\\n",
      "             u'Wirklich \u00fcberraschend dieser', \\\n",
      "             'Grandios']\n",
      "#training_set.extend([(pos_tweets.lower().encode('utf-8'), 'positive') for pos_tweets in pos_tweet])"
     ],
     "language": "python",
     "metadata": {},
     "outputs": [],
     "prompt_number": 39
    },
    {
     "cell_type": "code",
     "collapsed": false,
     "input": [
      "neg_tweet = ['Langweilig', \\\n",
      "             u'Bl\u00f6der', \\\n",
      "             'umschalten', \\\n",
      "             'er soll sterben', \\\n",
      "             'abschalten bei dem mist', \\\n",
      "             u'absehbar, wer der m\u00f6rder ist', \\\n",
      "             'was will dieser justin bieber', \\\n",
      "             u'Ich hab so ein ungutes Gef\u00fchl', \\\n",
      "             'justin bieber', \\\n",
      "             'so ein praktikant mit der waffe', \\\n",
      "             'was will dieser bubi', \\\n",
      "             u'Warum tragen die Frauen im heutigen Tatort so miese Per\u00fccken?', \\\n",
      "             u'Ja, diese Musik st\u00f6rt', \\\n",
      "             'Ich schalte um']\n",
      "#training_set.extend([(neg_tweets.lower().encode('utf-8'), 'negativ') for neg_tweets in neg_tweet])"
     ],
     "language": "python",
     "metadata": {},
     "outputs": [],
     "prompt_number": 40
    },
    {
     "cell_type": "markdown",
     "metadata": {},
     "source": [
      "The more realistic, the better, but language is complicated and especially on twitter, where actually nobody using sentences but abbraviations etc.\n",
      "Never the less, let's try it:"
     ]
    },
    {
     "cell_type": "heading",
     "level": 3,
     "metadata": {},
     "source": [
      "Train a Naive Bayes Classifier"
     ]
    },
    {
     "cell_type": "markdown",
     "metadata": {},
     "source": [
      "Basically, this is supervised machine learning and Jake Vanderplas made a great talk about that: [Machine Learning with Scikit-Learn - Jake Vanderplas on Vimeo](https://vimeo.com/80093925)"
     ]
    },
    {
     "cell_type": "markdown",
     "metadata": {},
     "source": [
      "First, we need samples. Our samples are the 2000 most used words out of all tweets (`freq_dist` to just use every word once):"
     ]
    },
    {
     "cell_type": "code",
     "collapsed": false,
     "input": [
      "samples = freq_dist.keys()[:2000]\n",
      "samples[:10]"
     ],
     "language": "python",
     "metadata": {},
     "outputs": [
      {
       "metadata": {},
       "output_type": "pyout",
       "prompt_number": 79,
       "text": [
        "['apothekerin',\n",
        " 'franz',\n",
        " 'batic',\n",
        " 'leitmayr',\n",
        " 'gut',\n",
        " 'ende',\n",
        " 'herr',\n",
        " 'frau',\n",
        " 'neue',\n",
        " 'kommt']"
       ]
      }
     ],
     "prompt_number": 79
    },
    {
     "cell_type": "code",
     "collapsed": false,
     "input": [
      "print('We have %s samples.' % len(samples))"
     ],
     "language": "python",
     "metadata": {},
     "outputs": [
      {
       "output_type": "stream",
       "stream": "stdout",
       "text": [
        "We have 2000 samples.\n"
       ]
      }
     ],
     "prompt_number": 80
    },
    {
     "cell_type": "markdown",
     "metadata": {},
     "source": [
      "Second, we need a feature.\n",
      "\n",
      "A feature here is following:\n",
      "\n",
      "* Every word from the collected Tweets get it's feature with `True` or `False` value, depending on, if it is in the Tweet or not\n",
      "* so by iterating over every Tweet, every word in the sample set should at least one time get the feature `True`\n",
      "* because we use a training set and have known sentiment values (Supervised Learning), these `true` or `false` will get `positive` or `negative` values as features later\n",
      "\n",
      "That is the easiest way of sentiment analysis.\n",
      "It will not cover negations, like\n",
      "\n",
      "```\n",
      "this was not a good movie\n",
      "```\n",
      "\n",
      "because it is just checking for `good` and `movie`."
     ]
    },
    {
     "cell_type": "markdown",
     "metadata": {},
     "source": [
      "The dictionary that is returned by this function is called a feature set and maps from\n",
      "features\u2019 names to their values. Feature names are case-sensitive strings that typically\n",
      "provide a short human-readable description of the feature. Feature values are values\n",
      "with simple types, such as Booleans, numbers, and strings."
     ]
    },
    {
     "cell_type": "code",
     "collapsed": false,
     "input": [
      "def tweet_features(tweet):\n",
      "    features={}\n",
      "    for word in samples:\n",
      "        features['contains(%s)' % word] = (word in tweet)\n",
      "    return features"
     ],
     "language": "python",
     "metadata": {},
     "outputs": [],
     "prompt_number": 81
    },
    {
     "cell_type": "heading",
     "level": 4,
     "metadata": {},
     "source": [
      "Create a Training Featureset"
     ]
    },
    {
     "cell_type": "markdown",
     "metadata": {},
     "source": [
      "Now we take our SentiWS training set and threat it like it were a Tweet. So, if a word from the SentiWS training set is in the samples list of the words we have in all the Tweets, we also have a sentiment (positive or negative) to classify it.\n",
      "\n",
      "All that is saved in the `trainingfeatureset`."
     ]
    },
    {
     "cell_type": "code",
     "collapsed": false,
     "input": [
      "trainingfeatureset = [(tweet_features(word), sentiment) for (word, sentiment) in training_set]"
     ],
     "language": "python",
     "metadata": {},
     "outputs": [],
     "prompt_number": 82
    },
    {
     "cell_type": "heading",
     "level": 4,
     "metadata": {},
     "source": [
      "Build the Classifier"
     ]
    },
    {
     "cell_type": "markdown",
     "metadata": {},
     "source": [
      "The classfier now checks, if some words are more likely tagged with `positive` or `negative` values."
     ]
    },
    {
     "cell_type": "code",
     "collapsed": false,
     "input": [
      "classifier = nltk.NaiveBayesClassifier.train(trainingfeatureset)"
     ],
     "language": "python",
     "metadata": {},
     "outputs": [],
     "prompt_number": 83
    },
    {
     "cell_type": "markdown",
     "metadata": {},
     "source": [
      "And there are some words:"
     ]
    },
    {
     "cell_type": "code",
     "collapsed": false,
     "input": [
      "classifier.show_most_informative_features(14)"
     ],
     "language": "python",
     "metadata": {},
     "outputs": [
      {
       "output_type": "stream",
       "stream": "stdout",
       "text": [
        "Most Informative Features\n",
        "          contains(hoch) = True           positi : negati =     10.7 : 1.0"
       ]
      },
      {
       "output_type": "stream",
       "stream": "stdout",
       "text": [
        "\n",
        "           contains(iss) = True           negati : positi =      7.4 : 1.0\n",
        "       contains(brechen) = True           negati : positi =      7.0 : 1.0\n",
        "        contains(schwer) = True           negati : positi =      6.4 : 1.0\n",
        "        contains(besser) = True           positi : negati =      6.2 : 1.0\n",
        "           contains(och) = True           positi : negati =      5.8 : 1.0\n",
        "           contains(min) = True           negati : positi =      5.3 : 1.0\n",
        "           contains(rot) = True           negati : positi =      5.3 : 1.0\n",
        "          contains(frei) = True           positi : negati =      5.2 : 1.0\n",
        "          contains(gern) = True           negati : positi =      5.1 : 1.0\n",
        "           contains(nit) = True           positi : negati =      4.8 : 1.0\n",
        "        contains(sicher) = True           positi : negati =      4.6 : 1.0\n",
        "          contains(sinn) = True           negati : positi =      4.5 : 1.0\n",
        "           contains(rtl) = True           negati : positi =      4.5 : 1.0\n"
       ]
      }
     ],
     "prompt_number": 87
    },
    {
     "cell_type": "markdown",
     "metadata": {},
     "source": [
      "These ratios are known as likelihood ratios, and can be useful for comparing different feature-outcome relationships.\n",
      "\n",
      "Notice the last shown: If a tweets contains `RTL` (a german TV channel), the tweet is 4.5x more likely to be negative. :)"
     ]
    },
    {
     "cell_type": "heading",
     "level": 3,
     "metadata": {},
     "source": [
      "Example Automatic Sentiment Classification based on the SentiWS Training Set"
     ]
    },
    {
     "cell_type": "markdown",
     "metadata": {},
     "source": [
      "just Tweets from 10 seconds after the end of the Tatort."
     ]
    },
    {
     "cell_type": "code",
     "collapsed": false,
     "input": [
      "fr = '201405042145'\n",
      "to = '20140504214510'\n",
      "positivtweets = []\n",
      "negativtweets = []\n",
      "for t in range(len(tweets[fr:to].text)):\n",
      "    tt = tweets[fr:to].text[t]\n",
      "    ts = classifier.classify(tweet_features(tt))\n",
      "    if ts=='positive':\n",
      "        positivtweets.append(tt)\n",
      "    else:\n",
      "        negativtweets.append(tt)"
     ],
     "language": "python",
     "metadata": {},
     "outputs": [],
     "prompt_number": 88
    },
    {
     "cell_type": "heading",
     "level": 4,
     "metadata": {},
     "source": [
      "Positive"
     ]
    },
    {
     "cell_type": "code",
     "collapsed": false,
     "input": [
      "for tweet in positivtweets:\n",
      "    print tweet"
     ],
     "language": "python",
     "metadata": {},
     "outputs": [
      {
       "output_type": "stream",
       "stream": "stdout",
       "text": [
        "Gemein! #Tatort\n",
        "Den #tatort muss ich erst mal verdauen!\n",
        "@Tatort Endlich mal wieder ein spannender Tatort ! Danke \ud83d\ude0a\n",
        "Ich muss es zugeben: Das war ein echt gro\u00dfartiger #tatort.\n",
        "Oh man was war das denn f\u00fcr ein #Tatort! \n",
        "Sehr gut!\n",
        "Und schafft es Franz? #Tatort @Tatort Daumen hoch f\u00fcr einen guten M\u00fcnchner Tatort \ud83d\udc4d\n",
        "RT @Paxter_Redwyne: Bis auf den grandiosen Kurzauftritt von Franz Xaver Kroetz leider wieder ein sehr bescheidener #Tatort.\n",
        "@LutzStroppe sie wollte ein Verh\u00e4ltnis und war es. Bin platt, guter #Tatort\n",
        "RT @stoltenberg: ein guter #tatort l\u00e4sst keine zeit zum twittern.\n",
        "Wenn Til Schweiger das toppen m\u00f6chte, dann muss er auch am Ende der n\u00e4chsten Folge sterben! Oder besser schon am Anfang. #tatort\n",
        "Genialer Spannungsbogen. Sehr guter @Tatort heute.\n",
        "RT @LaLameck: Gibt's jetzt noch einen zweiten Teil des M\u00fcnchner #tatort? Ich warte n\u00e4mlich noch auf die Tanten aus Split...\n",
        "Ich fand den #Tatort gut.\n",
        "Zitat des Abends: \"Bondage, Herr Batic\" #tatort\n",
        "Gl\u00fcckwunsch @ARD_Presse und @BR_Presse. Ein ganz toller #tatort! @Tatort\n",
        "@Tatort 1,5!!! Gutes ding\n",
        "Ich fande den #Tatort heute echt gut.\n"
       ]
      }
     ],
     "prompt_number": 89
    },
    {
     "cell_type": "heading",
     "level": 4,
     "metadata": {},
     "source": [
      "Negative"
     ]
    },
    {
     "cell_type": "code",
     "collapsed": false,
     "input": [
      "for tweet in negativtweets:\n",
      "    print tweet"
     ],
     "language": "python",
     "metadata": {},
     "outputs": [
      {
       "output_type": "stream",
       "stream": "stdout",
       "text": [
        "Cliffhanger beim #tatort sind geschummelt\n",
        "RT @einmalteduerr: Huren, Kriminelle, Amigo-Kultur und M\u00fcnchen. An welchen Verein erinnert mich dieser #tatort blo\u00df? #followerpower\n",
        "Die #Tatort -Version eines Cliffhanger ist schon eher arm.\n",
        "Mit dem #tatort endet der Sonntag, mit #jauch beginnt der Montag. Furchtbar.\n",
        "#Tatort ohne happy end :'(\n",
        "Lasst Euch ja nicht einfallen, uns das Ermittlerduo Batic / Leitmayr zu nehmen @Tatort #Zuschauerpower\n",
        "RT @Silbendrechsler: Der #Tatort mit M\u00f6rder-Cliffhanger, wer h\u00e4tte das gedacht.\n",
        "@Tatort schlecht\n",
        "RT @carlacrypta: warum macht ihr das mit uuuns? Wir sind jetzt b\u00f6se. #tatort #leitmayrdarfnichtsterben\n",
        "RT @herr_arendt: Und wer sagt jetzt den vergeblich wartenden Tanten von Batic in Split Bescheid... #Tatort\n",
        "@Tatort 3\n",
        "Ja und, haben wir das jetzt geschafft oder nicht? #Tatort\n"
       ]
      }
     ],
     "prompt_number": 90
    },
    {
     "cell_type": "markdown",
     "metadata": {},
     "source": [
      "Not bad for such a simple classifier!"
     ]
    },
    {
     "cell_type": "heading",
     "level": 3,
     "metadata": {},
     "source": [
      "Now let's do it for all collected Tweets"
     ]
    },
    {
     "cell_type": "markdown",
     "metadata": {},
     "source": [
      "Define a function which returns the sentiment from our classifier"
     ]
    },
    {
     "cell_type": "code",
     "collapsed": false,
     "input": [
      "def classifytweet(dataframe):\n",
      "    return classifier.classify(tweet_features(dataframe.text))"
     ],
     "language": "python",
     "metadata": {},
     "outputs": [],
     "prompt_number": 91
    },
    {
     "cell_type": "markdown",
     "metadata": {},
     "source": [
      "Apply to all Tweets (takes a while!)"
     ]
    },
    {
     "cell_type": "code",
     "collapsed": false,
     "input": [
      "tweets['sentiment'] = tweets.apply(classifytweet, axis=1)"
     ],
     "language": "python",
     "metadata": {},
     "outputs": [],
     "prompt_number": 57
    },
    {
     "cell_type": "markdown",
     "metadata": {},
     "source": [
      "Now we can look, how the mood of the crowd was"
     ]
    },
    {
     "cell_type": "code",
     "collapsed": false,
     "input": [
      "plt.figure(figsize=(16,5))\n",
      "pd.ewma(tweets.sentiment.str.match('positive').resample('1t'), 2).plot(label='mood of the Twitter crowd', color='g', alpha=0.8)\n",
      "plt.ylim(0.3,0.7)\n",
      "plt.axhline(0.5, alpha=0.2, label='indifferent')\n",
      "plt.axvline(datetime(2014, 5, 4, 18, 15, 0, 0), label='Begin of Tatort', color='k', alpha=0.1)\n",
      "plt.axvline(datetime(2014, 5, 4, 19, 45, 0, 0), label='End of Tatort', color='k', alpha=0.1)\n",
      "plt.annotate('positive', xy=(0.5, 0.8),  xycoords='axes fraction',\n",
      "            xytext=(0.5, 0.8), textcoords='axes fraction', size=16,\n",
      "            horizontalalignment='center', verticalalignment='center')\n",
      "plt.annotate('negative', xy=(0.5, 0.8),  xycoords='axes fraction',\n",
      "            xytext=(0.5, 0.2), textcoords='axes fraction', size=16,\n",
      "            horizontalalignment='center', verticalalignment='center')\n",
      "plt.legend(loc=4)\n",
      "plt.title('Mood of the Twitter Crowd for #Tatort, estimated by a Naive Bayes Sentiment Classificator')\n",
      "plt.savefig('mood-crowd-%s.png' % hashtag, bbox_inches='tight', dpi=300)"
     ],
     "language": "python",
     "metadata": {},
     "outputs": [
      {
       "metadata": {},
       "output_type": "display_data",
       "png": "[encoded data removed]",
       "text": [
        "<matplotlib.figure.Figure at 0x1117d71d0>"
       ]
      }
     ],
     "prompt_number": 126
    },
    {
     "cell_type": "markdown",
     "metadata": {},
     "source": [
      "Thanks for watching. :)"
     ]
    }
   ],
   "metadata": {}
  }
 ]
}