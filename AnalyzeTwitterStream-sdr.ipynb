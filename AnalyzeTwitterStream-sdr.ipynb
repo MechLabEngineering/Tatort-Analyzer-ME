{
 "metadata": {
  "name": ""
 },
 "nbformat": 3,
 "nbformat_minor": 0,
 "worksheets": [
  {
   "cells": [
    {
     "cell_type": "heading",
     "level": 1,
     "metadata": {},
     "source": [
      "Analyse Twitter Stream"
     ]
    },
    {
     "cell_type": "markdown",
     "metadata": {},
     "source": [
      "Hopefully, you have a local MongoDB up and running with all Tweets in it"
     ]
    },
    {
     "cell_type": "markdown",
     "metadata": {},
     "source": [
      "Thanks to [this](http://stackoverflow.com/a/16255680), I can made this."
     ]
    },
    {
     "cell_type": "code",
     "collapsed": false,
     "input": [
      "import pandas as pd\n",
      "from pandas.tseries.resample import TimeGrouper\n",
      "from pandas.tseries.offsets import DateOffset\n",
      "from pymongo import MongoClient\n",
      "import matplotlib.pyplot as plt\n",
      "%pylab inline --no-import-all"
     ],
     "language": "python",
     "metadata": {},
     "outputs": [
      {
       "output_type": "stream",
       "stream": "stdout",
       "text": [
        "Populating the interactive namespace from numpy and matplotlib\n"
       ]
      }
     ],
     "prompt_number": 1
    },
    {
     "cell_type": "code",
     "collapsed": false,
     "input": [
      "def _connect_mongo(host, port, username, password, db):\n",
      "    \"\"\" A util for making a connection to mongo \"\"\"\n",
      "\n",
      "    if username and password:\n",
      "        mongo_uri = 'mongodb://%s:%s@%s:%s/%s' % (username, password, host, port, db)\n",
      "        conn = MongoClient(mongo_uri)\n",
      "    else:\n",
      "        conn = MongoClient(host, port)\n",
      "\n",
      "\n",
      "    return conn[db]"
     ],
     "language": "python",
     "metadata": {},
     "outputs": [],
     "prompt_number": 2
    },
    {
     "cell_type": "code",
     "collapsed": false,
     "input": [
      "def read_mongo(db, collection, query={}, host='localhost', port=27017, username=None, password=None, no_id=True):\n",
      "    \"\"\" Read from Mongo and Store into DataFrame \"\"\"\n",
      "\n",
      "    # Connect to MongoDB\n",
      "    db = _connect_mongo(host=host, port=port, username=username, password=password, db=db)\n",
      "\n",
      "    # Make a query to the specific DB and Collection\n",
      "    cursor = db[collection].find(query)\n",
      "\n",
      "    # Expand the cursor and construct the DataFrame\n",
      "    df =  pd.DataFrame(list(cursor))\n",
      "\n",
      "    # Delete the _id\n",
      "    if no_id:\n",
      "        del df['_id']\n",
      "\n",
      "    return df"
     ],
     "language": "python",
     "metadata": {},
     "outputs": [],
     "prompt_number": 3
    },
    {
     "cell_type": "heading",
     "level": 1,
     "metadata": {},
     "source": [
      "Connect and get the Data"
     ]
    },
    {
     "cell_type": "code",
     "collapsed": false,
     "input": [
      "dbname = 'Tweets'\n",
      "collection = 'Tweets'\n",
      "tweets = read_mongo(dbname, collection)"
     ],
     "language": "python",
     "metadata": {},
     "outputs": [],
     "prompt_number": 4
    },
    {
     "cell_type": "code",
     "collapsed": false,
     "input": [
      "tweets.set_index('created_at', inplace=True)\n",
      "tweets.index = tweets.index.tz_localize('GMT').tz_convert('CET')\n",
      "tweets.index.name = 'Zeit'\n",
      "tweets.index"
     ],
     "language": "python",
     "metadata": {},
     "outputs": [
      {
       "metadata": {},
       "output_type": "pyout",
       "prompt_number": 5,
       "text": [
        "<class 'pandas.tseries.index.DatetimeIndex'>\n",
        "[2014-05-03 21:40:51+02:00, ..., 2014-05-03 22:44:27+02:00]\n",
        "Length: 3249, Freq: None, Timezone: CET"
       ]
      }
     ],
     "prompt_number": 5
    },
    {
     "cell_type": "heading",
     "level": 3,
     "metadata": {},
     "source": [
      "Show it"
     ]
    },
    {
     "cell_type": "code",
     "collapsed": false,
     "input": [
      "tweets.tail(10)"
     ],
     "language": "python",
     "metadata": {},
     "outputs": [
      {
       "html": [
        "<div style=\"max-height:1000px;max-width:1500px;overflow:auto;\">\n",
        "<table border=\"1\" class=\"dataframe\">\n",
        "  <thead>\n",
        "    <tr style=\"text-align: right;\">\n",
        "      <th></th>\n",
        "      <th>follower</th>\n",
        "      <th>geo</th>\n",
        "      <th>replyto</th>\n",
        "      <th>source</th>\n",
        "      <th>text</th>\n",
        "      <th>user</th>\n",
        "      <th>userfriends</th>\n",
        "      <th>userpic</th>\n",
        "    </tr>\n",
        "    <tr>\n",
        "      <th>Zeit</th>\n",
        "      <th></th>\n",
        "      <th></th>\n",
        "      <th></th>\n",
        "      <th></th>\n",
        "      <th></th>\n",
        "      <th></th>\n",
        "      <th></th>\n",
        "      <th></th>\n",
        "    </tr>\n",
        "  </thead>\n",
        "  <tbody>\n",
        "    <tr>\n",
        "      <th>2014-05-03 22:44:24+02:00</th>\n",
        "      <td>  89</td>\n",
        "      <td> None</td>\n",
        "      <td>      None</td>\n",
        "      <td>                 web</td>\n",
        "      <td>                                  Buschi! :'D #sdr</td>\n",
        "      <td>    Bjoern_Mess</td>\n",
        "      <td> 980</td>\n",
        "      <td> https://pbs.twimg.com/profile_images/462689537...</td>\n",
        "    </tr>\n",
        "    <tr>\n",
        "      <th>2014-05-03 22:44:24+02:00</th>\n",
        "      <td> 281</td>\n",
        "      <td> None</td>\n",
        "      <td>      None</td>\n",
        "      <td>    Twitter for iPad</td>\n",
        "      <td>                Auch geblitzt...#sdr #psyscholache</td>\n",
        "      <td>       ReifZahl</td>\n",
        "      <td> 134</td>\n",
        "      <td> https://pbs.twimg.com/profile_images/460103709...</td>\n",
        "    </tr>\n",
        "    <tr>\n",
        "      <th>2014-05-03 22:44:24+02:00</th>\n",
        "      <td>  25</td>\n",
        "      <td> None</td>\n",
        "      <td> stecklars</td>\n",
        "      <td>    Twitter for iPad</td>\n",
        "      <td> @stecklars Wetten dass hat wohl rund 5 Mio gek...</td>\n",
        "      <td>        wettels</td>\n",
        "      <td> 179</td>\n",
        "      <td> https://pbs.twimg.com/profile_images/119773413...</td>\n",
        "    </tr>\n",
        "    <tr>\n",
        "      <th>2014-05-03 22:44:25+02:00</th>\n",
        "      <td> 372</td>\n",
        "      <td> None</td>\n",
        "      <td>      None</td>\n",
        "      <td> Twitter for Android</td>\n",
        "      <td>                               Ja ja geblitzt #sdr</td>\n",
        "      <td>      Mangogelb</td>\n",
        "      <td> 144</td>\n",
        "      <td> https://pbs.twimg.com/profile_images/461774165...</td>\n",
        "    </tr>\n",
        "    <tr>\n",
        "      <th>2014-05-03 22:44:25+02:00</th>\n",
        "      <td> 611</td>\n",
        "      <td> None</td>\n",
        "      <td>      None</td>\n",
        "      <td>  Twitter for iPhone</td>\n",
        "      <td> 300 Meter von der Strecke entfernt mach ich im...</td>\n",
        "      <td>         MyJBMe</td>\n",
        "      <td> 176</td>\n",
        "      <td> https://pbs.twimg.com/profile_images/427918174...</td>\n",
        "    </tr>\n",
        "    <tr>\n",
        "      <th>2014-05-03 22:44:25+02:00</th>\n",
        "      <td>  97</td>\n",
        "      <td> None</td>\n",
        "      <td>      None</td>\n",
        "      <td>           HootSuite</td>\n",
        "      <td> #HighFive f\u00fcr #Raab. Wenn er schon die Hand au...</td>\n",
        "      <td>     SteveeToGo</td>\n",
        "      <td>  79</td>\n",
        "      <td> https://pbs.twimg.com/profile_images/442684301...</td>\n",
        "    </tr>\n",
        "    <tr>\n",
        "      <th>2014-05-03 22:44:25+02:00</th>\n",
        "      <td> 771</td>\n",
        "      <td> None</td>\n",
        "      <td>      None</td>\n",
        "      <td>           TweetDeck</td>\n",
        "      <td> Hahaha, wie Buschi lacht. Wie so ein Gartenzwe...</td>\n",
        "      <td>   werkarniggel</td>\n",
        "      <td> 146</td>\n",
        "      <td> https://pbs.twimg.com/profile_images/225386424...</td>\n",
        "    </tr>\n",
        "    <tr>\n",
        "      <th>2014-05-03 22:44:26+02:00</th>\n",
        "      <td> 861</td>\n",
        "      <td> None</td>\n",
        "      <td>      None</td>\n",
        "      <td>    Tweetbot for iOS</td>\n",
        "      <td>               Hahahaa Raab ist so geil ey \ud83d\ude02 #SdR</td>\n",
        "      <td>    FCB_Stephan</td>\n",
        "      <td> 255</td>\n",
        "      <td> https://pbs.twimg.com/profile_images/450270733...</td>\n",
        "    </tr>\n",
        "    <tr>\n",
        "      <th>2014-05-03 22:44:26+02:00</th>\n",
        "      <td>  48</td>\n",
        "      <td> None</td>\n",
        "      <td>      None</td>\n",
        "      <td>                 web</td>\n",
        "      <td>                 Die Lache... #SdR @FrankBuschmann</td>\n",
        "      <td> 5imon_3ppinger</td>\n",
        "      <td> 159</td>\n",
        "      <td> https://pbs.twimg.com/profile_images/454672480...</td>\n",
        "    </tr>\n",
        "    <tr>\n",
        "      <th>2014-05-03 22:44:27+02:00</th>\n",
        "      <td> 612</td>\n",
        "      <td> None</td>\n",
        "      <td>      None</td>\n",
        "      <td> Twitter for Android</td>\n",
        "      <td>         Es lebe die Schadenfreude :D #sdr #buschi</td>\n",
        "      <td>     dahool1986</td>\n",
        "      <td> 397</td>\n",
        "      <td> https://pbs.twimg.com/profile_images/449567573...</td>\n",
        "    </tr>\n",
        "  </tbody>\n",
        "</table>\n",
        "<p>10 rows \u00d7 8 columns</p>\n",
        "</div>"
       ],
       "metadata": {},
       "output_type": "pyout",
       "prompt_number": 6,
       "text": [
        "                           follower   geo    replyto               source  \\\n",
        "Zeit                                                                        \n",
        "2014-05-03 22:44:24+02:00        89  None       None                  web   \n",
        "2014-05-03 22:44:24+02:00       281  None       None     Twitter for iPad   \n",
        "2014-05-03 22:44:24+02:00        25  None  stecklars     Twitter for iPad   \n",
        "2014-05-03 22:44:25+02:00       372  None       None  Twitter for Android   \n",
        "2014-05-03 22:44:25+02:00       611  None       None   Twitter for iPhone   \n",
        "2014-05-03 22:44:25+02:00        97  None       None            HootSuite   \n",
        "2014-05-03 22:44:25+02:00       771  None       None            TweetDeck   \n",
        "2014-05-03 22:44:26+02:00       861  None       None     Tweetbot for iOS   \n",
        "2014-05-03 22:44:26+02:00        48  None       None                  web   \n",
        "2014-05-03 22:44:27+02:00       612  None       None  Twitter for Android   \n",
        "\n",
        "                                                                        text  \\\n",
        "Zeit                                                                           \n",
        "2014-05-03 22:44:24+02:00                                   Buschi! :'D #sdr   \n",
        "2014-05-03 22:44:24+02:00                 Auch geblitzt...#sdr #psyscholache   \n",
        "2014-05-03 22:44:24+02:00  @stecklars Wetten dass hat wohl rund 5 Mio gek...   \n",
        "2014-05-03 22:44:25+02:00                                Ja ja geblitzt #sdr   \n",
        "2014-05-03 22:44:25+02:00  300 Meter von der Strecke entfernt mach ich im...   \n",
        "2014-05-03 22:44:25+02:00  #HighFive f\u00fcr #Raab. Wenn er schon die Hand au...   \n",
        "2014-05-03 22:44:25+02:00  Hahaha, wie Buschi lacht. Wie so ein Gartenzwe...   \n",
        "2014-05-03 22:44:26+02:00                Hahahaa Raab ist so geil ey \ud83d\ude02 #SdR   \n",
        "2014-05-03 22:44:26+02:00                  Die Lache... #SdR @FrankBuschmann   \n",
        "2014-05-03 22:44:27+02:00          Es lebe die Schadenfreude :D #sdr #buschi   \n",
        "\n",
        "                                     user  userfriends  \\\n",
        "Zeit                                                     \n",
        "2014-05-03 22:44:24+02:00     Bjoern_Mess          980   \n",
        "2014-05-03 22:44:24+02:00        ReifZahl          134   \n",
        "2014-05-03 22:44:24+02:00         wettels          179   \n",
        "2014-05-03 22:44:25+02:00       Mangogelb          144   \n",
        "2014-05-03 22:44:25+02:00          MyJBMe          176   \n",
        "2014-05-03 22:44:25+02:00      SteveeToGo           79   \n",
        "2014-05-03 22:44:25+02:00    werkarniggel          146   \n",
        "2014-05-03 22:44:26+02:00     FCB_Stephan          255   \n",
        "2014-05-03 22:44:26+02:00  5imon_3ppinger          159   \n",
        "2014-05-03 22:44:27+02:00      dahool1986          397   \n",
        "\n",
        "                                                                     userpic  \n",
        "Zeit                                                                          \n",
        "2014-05-03 22:44:24+02:00  https://pbs.twimg.com/profile_images/462689537...  \n",
        "2014-05-03 22:44:24+02:00  https://pbs.twimg.com/profile_images/460103709...  \n",
        "2014-05-03 22:44:24+02:00  https://pbs.twimg.com/profile_images/119773413...  \n",
        "2014-05-03 22:44:25+02:00  https://pbs.twimg.com/profile_images/461774165...  \n",
        "2014-05-03 22:44:25+02:00  https://pbs.twimg.com/profile_images/427918174...  \n",
        "2014-05-03 22:44:25+02:00  https://pbs.twimg.com/profile_images/442684301...  \n",
        "2014-05-03 22:44:25+02:00  https://pbs.twimg.com/profile_images/225386424...  \n",
        "2014-05-03 22:44:26+02:00  https://pbs.twimg.com/profile_images/450270733...  \n",
        "2014-05-03 22:44:26+02:00  https://pbs.twimg.com/profile_images/454672480...  \n",
        "2014-05-03 22:44:27+02:00  https://pbs.twimg.com/profile_images/449567573...  \n",
        "\n",
        "[10 rows x 8 columns]"
       ]
      }
     ],
     "prompt_number": 6
    },
    {
     "cell_type": "heading",
     "level": 2,
     "metadata": {},
     "source": [
      "Tweets per Minute"
     ]
    },
    {
     "cell_type": "code",
     "collapsed": false,
     "input": [
      "tweetsperminute = tweets['text'].resample('1t', how='count')"
     ],
     "language": "python",
     "metadata": {},
     "outputs": [],
     "prompt_number": 59
    },
    {
     "cell_type": "code",
     "collapsed": false,
     "input": [
      "plt.figure(figsize=(14,4))\n",
      "tweetsperminute.plot()\n",
      "plt.ylabel('Tweets per Minute')"
     ],
     "language": "python",
     "metadata": {},
     "outputs": [
      {
       "metadata": {},
       "output_type": "pyout",
       "prompt_number": 8,
       "text": [
        "<matplotlib.text.Text at 0x10dc99490>"
       ]
      },
      {
       "metadata": {},
       "output_type": "display_data",
       "png": "[encoded data removed]",
       "text": [
        "<matplotlib.figure.Figure at 0x10dbc7dd0>"
       ]
      }
     ],
     "prompt_number": 8
    },
    {
     "cell_type": "heading",
     "level": 1,
     "metadata": {},
     "source": [
      "Localisation"
     ]
    },
    {
     "cell_type": "code",
     "collapsed": false,
     "input": [
      "from IPython.display import HTML\n",
      "import folium"
     ],
     "language": "python",
     "metadata": {},
     "outputs": [],
     "prompt_number": 9
    },
    {
     "cell_type": "markdown",
     "metadata": {},
     "source": [
      "Thanks to [this](http://nbviewer.ipython.org/gist/bburky/7763555/folium-ipython.ipynb)"
     ]
    },
    {
     "cell_type": "code",
     "collapsed": false,
     "input": [
      "def inline_map(map):\n",
      "    \"\"\"\n",
      "    Embeds the HTML source of the map directly into the IPython notebook.\n",
      "    \n",
      "    This method will not work if the map depends on any files (json data). Also this uses\n",
      "    the HTML5 srcdoc attribute, which may not be supported in all browsers.\n",
      "    \"\"\"\n",
      "    map._build_map()\n",
      "    return HTML('<iframe srcdoc=\"{srcdoc}\" style=\"width: 100%; height: 510px; border: none\"></iframe>'.format(srcdoc=map.HTML.replace('\"', '&quot;')))\n",
      "\n",
      "def embed_map(map, path=\"map.html\"):\n",
      "    \"\"\"\n",
      "    Embeds a linked iframe to the map into the IPython notebook.\n",
      "    \n",
      "    Note: this method will not capture the source of the map into the notebook.\n",
      "    This method should work for all maps (as long as they use relative urls).\n",
      "    \"\"\"\n",
      "    map.create_map(path=path)\n",
      "    return HTML('<iframe src=\"files/{path}\" style=\"width: 100%; height: 510px; border: none\"></iframe>'.format(path=path))"
     ],
     "language": "python",
     "metadata": {},
     "outputs": [],
     "prompt_number": 10
    },
    {
     "cell_type": "code",
     "collapsed": false,
     "input": [],
     "language": "python",
     "metadata": {},
     "outputs": [],
     "prompt_number": 10
    },
    {
     "cell_type": "code",
     "collapsed": false,
     "input": [
      "locations = [l for l in tweets.geo.values if l!=None]"
     ],
     "language": "python",
     "metadata": {},
     "outputs": [],
     "prompt_number": 11
    },
    {
     "cell_type": "code",
     "collapsed": false,
     "input": [
      "map = folium.Map(location=[50, 10], zoom_start=5, tiles='Stamen Toner')\n",
      "for marker in locations:\n",
      "    map.simple_marker(marker.values()[1])\n",
      "inline_map(map)"
     ],
     "language": "python",
     "metadata": {},
     "outputs": [
      {
       "html": [
        "<iframe srcdoc=\"<!DOCTYPE html>\n",
        "<head>\n",
        "   <link rel=&quot;stylesheet&quot; href=&quot;http://cdn.leafletjs.com/leaflet-0.5/leaflet.css&quot; />\n",
        "   <script src=&quot;http://cdn.leafletjs.com/leaflet-0.5/leaflet.js&quot;></script>\n",
        "   \n",
        "   \n",
        "   \n",
        "   \n",
        "\n",
        "\n",
        "<style>\n",
        "\n",
        "#map {\n",
        "  position:absolute;\n",
        "  top:0;\n",
        "  bottom:0;\n",
        "  right:0;\n",
        "  left:0;\n",
        "}\n",
        "\n",
        "</style>\n",
        "</head>\n",
        "<body>\n",
        "\n",
        "        <div id=&quot;map&quot; style=&quot;width: 960px; height: 500px&quot;></div>\n",
        "\n",
        "<script>\n",
        "\n",
        "\n",
        "\n",
        "var map = L.map('map').setView([50, 10], 5);\n",
        "\n",
        "L.tileLayer('http://{s}.tile.stamen.com/toner/{z}/{x}/{y}.jpg', {\n",
        "    maxZoom: 18,\n",
        "    attribution: 'Map tiles by <a href=&quot;http://stamen.com&quot;>Stamen Design</a>, under <a href=&quot;http://creativecommons.org/licenses/by/3.0&quot;>CC BY 3.0</a>. Data by <a href=&quot;http://openstreetmap.org&quot;>OpenStreetMap</a>, under <a href=&quot;http://creativecommons.org/licenses/by-sa/3.0&quot;>CC BY SA</a>.'\n",
        "}).addTo(map);\n",
        "\n",
        "\n",
        "var marker_1 = L.marker([50.10362866, 8.69026333]);\n",
        "marker_1.bindPopup(&quot;Pop Text&quot;);\n",
        "map.addLayer(marker_1)\n",
        "\n",
        "var marker_2 = L.marker([48.28558238, 9.73898396]);\n",
        "marker_2.bindPopup(&quot;Pop Text&quot;);\n",
        "map.addLayer(marker_2)\n",
        "\n",
        "var marker_3 = L.marker([51.3471453, 12.31775908]);\n",
        "marker_3.bindPopup(&quot;Pop Text&quot;);\n",
        "map.addLayer(marker_3)\n",
        "\n",
        "var marker_4 = L.marker([52.55134574, 13.41763797]);\n",
        "marker_4.bindPopup(&quot;Pop Text&quot;);\n",
        "map.addLayer(marker_4)\n",
        "\n",
        "var marker_5 = L.marker([51.1951545, 6.59895257]);\n",
        "marker_5.bindPopup(&quot;Pop Text&quot;);\n",
        "map.addLayer(marker_5)\n",
        "\n",
        "var marker_6 = L.marker([51.35135135, 12.40546838]);\n",
        "marker_6.bindPopup(&quot;Pop Text&quot;);\n",
        "map.addLayer(marker_6)\n",
        "\n",
        "var marker_7 = L.marker([51.347245, 12.31774969]);\n",
        "marker_7.bindPopup(&quot;Pop Text&quot;);\n",
        "map.addLayer(marker_7)\n",
        "\n",
        "var marker_8 = L.marker([51.38556693, 7.17079277]);\n",
        "marker_8.bindPopup(&quot;Pop Text&quot;);\n",
        "map.addLayer(marker_8)\n",
        "\n",
        "var marker_9 = L.marker([48.10092598, 11.65159821]);\n",
        "marker_9.bindPopup(&quot;Pop Text&quot;);\n",
        "map.addLayer(marker_9)\n",
        "\n",
        "var marker_10 = L.marker([52.55136653, 13.41760295]);\n",
        "marker_10.bindPopup(&quot;Pop Text&quot;);\n",
        "map.addLayer(marker_10)\n",
        "\n",
        "var marker_11 = L.marker([53.5959905, 9.9787438]);\n",
        "marker_11.bindPopup(&quot;Pop Text&quot;);\n",
        "map.addLayer(marker_11)\n",
        "\n",
        "var marker_12 = L.marker([51.35135135, 12.40546838]);\n",
        "marker_12.bindPopup(&quot;Pop Text&quot;);\n",
        "map.addLayer(marker_12)\n",
        "\n",
        "var marker_13 = L.marker([48.1261079, 11.636635]);\n",
        "marker_13.bindPopup(&quot;Pop Text&quot;);\n",
        "map.addLayer(marker_13)\n",
        "\n",
        "var marker_14 = L.marker([52.55138444, 13.41775485]);\n",
        "marker_14.bindPopup(&quot;Pop Text&quot;);\n",
        "map.addLayer(marker_14)\n",
        "\n",
        "var marker_15 = L.marker([46.81720571, 7.34192002]);\n",
        "marker_15.bindPopup(&quot;Pop Text&quot;);\n",
        "map.addLayer(marker_15)\n",
        "\n",
        "var marker_16 = L.marker([46.81706492, 7.34222029]);\n",
        "marker_16.bindPopup(&quot;Pop Text&quot;);\n",
        "map.addLayer(marker_16)\n",
        "\n",
        "var marker_17 = L.marker([53.55289439, 9.91622659]);\n",
        "marker_17.bindPopup(&quot;Pop Text&quot;);\n",
        "map.addLayer(marker_17)\n",
        "\n",
        "var marker_18 = L.marker([52.44498514, 13.03296887]);\n",
        "marker_18.bindPopup(&quot;Pop Text&quot;);\n",
        "map.addLayer(marker_18)\n",
        "\n",
        "var marker_19 = L.marker([52.274135, 7.4329139]);\n",
        "marker_19.bindPopup(&quot;Pop Text&quot;);\n",
        "map.addLayer(marker_19)\n",
        "\n",
        "var marker_20 = L.marker([50.6073353, 11.2912199]);\n",
        "marker_20.bindPopup(&quot;Pop Text&quot;);\n",
        "map.addLayer(marker_20)\n",
        "\n",
        "var marker_21 = L.marker([52.99201564, 8.81137248]);\n",
        "marker_21.bindPopup(&quot;Pop Text&quot;);\n",
        "map.addLayer(marker_21)\n",
        "\n",
        "var marker_22 = L.marker([49.78405562, 6.22003661]);\n",
        "marker_22.bindPopup(&quot;Pop Text&quot;);\n",
        "map.addLayer(marker_22)\n",
        "\n",
        "var marker_23 = L.marker([50.6073353, 11.2912199]);\n",
        "marker_23.bindPopup(&quot;Pop Text&quot;);\n",
        "map.addLayer(marker_23)\n",
        "\n",
        "var marker_24 = L.marker([47.7827162, 13.0669155]);\n",
        "marker_24.bindPopup(&quot;Pop Text&quot;);\n",
        "map.addLayer(marker_24)\n",
        "\n",
        "var marker_25 = L.marker([47.4954955, 8.50701298]);\n",
        "marker_25.bindPopup(&quot;Pop Text&quot;);\n",
        "map.addLayer(marker_25)\n",
        "\n",
        "var marker_26 = L.marker([52.43385854, 13.24936183]);\n",
        "marker_26.bindPopup(&quot;Pop Text&quot;);\n",
        "map.addLayer(marker_26)\n",
        "\n",
        "var marker_27 = L.marker([51.35135135, 12.40546838]);\n",
        "marker_27.bindPopup(&quot;Pop Text&quot;);\n",
        "map.addLayer(marker_27)\n",
        "\n",
        "var marker_28 = L.marker([52.5513223, 13.41764435]);\n",
        "marker_28.bindPopup(&quot;Pop Text&quot;);\n",
        "map.addLayer(marker_28)\n",
        "\n",
        "var marker_29 = L.marker([52.2741433, 7.4329576]);\n",
        "marker_29.bindPopup(&quot;Pop Text&quot;);\n",
        "map.addLayer(marker_29)\n",
        "\n",
        "var marker_30 = L.marker([47.4954955, 8.50701298]);\n",
        "marker_30.bindPopup(&quot;Pop Text&quot;);\n",
        "map.addLayer(marker_30)\n",
        "\n",
        "var marker_31 = L.marker([47.7827162, 13.0669155]);\n",
        "marker_31.bindPopup(&quot;Pop Text&quot;);\n",
        "map.addLayer(marker_31)\n",
        "\n",
        "var marker_32 = L.marker([49.4004449, 8.686479]);\n",
        "marker_32.bindPopup(&quot;Pop Text&quot;);\n",
        "map.addLayer(marker_32)\n",
        "\n",
        "var marker_33 = L.marker([48.30441288, 12.26612173]);\n",
        "marker_33.bindPopup(&quot;Pop Text&quot;);\n",
        "map.addLayer(marker_33)\n",
        "\n",
        "var marker_34 = L.marker([48.76231484, 9.21926381]);\n",
        "marker_34.bindPopup(&quot;Pop Text&quot;);\n",
        "map.addLayer(marker_34)\n",
        "\n",
        "var marker_35 = L.marker([51.0408226, 13.69950992]);\n",
        "marker_35.bindPopup(&quot;Pop Text&quot;);\n",
        "map.addLayer(marker_35)\n",
        "\n",
        "var marker_36 = L.marker([47.7827162, 13.0669155]);\n",
        "marker_36.bindPopup(&quot;Pop Text&quot;);\n",
        "map.addLayer(marker_36)\n",
        "\n",
        "var marker_37 = L.marker([47.7827162, 13.0669155]);\n",
        "marker_37.bindPopup(&quot;Pop Text&quot;);\n",
        "map.addLayer(marker_37)\n",
        "\n",
        "var marker_38 = L.marker([52.4106988, 13.3591743]);\n",
        "marker_38.bindPopup(&quot;Pop Text&quot;);\n",
        "map.addLayer(marker_38)\n",
        "\n",
        "\n",
        "\n",
        "\n",
        "\n",
        "\n",
        "</script>\n",
        "\n",
        "</body>\" style=\"width: 100%; height: 510px; border: none\"></iframe>"
       ],
       "metadata": {},
       "output_type": "pyout",
       "prompt_number": 12,
       "text": [
        "<IPython.core.display.HTML at 0x10deaec90>"
       ]
      }
     ],
     "prompt_number": 12
    },
    {
     "cell_type": "heading",
     "level": 1,
     "metadata": {},
     "source": [
      "Text Processing with the Natural Language Toolkit"
     ]
    },
    {
     "cell_type": "code",
     "collapsed": false,
     "input": [
      "import nltk\n",
      "from nltk.corpus import stopwords\n",
      "from nltk import FreqDist\n",
      "stop_eng = stopwords.words('english')\n",
      "stop_ger = stopwords.words('german')\n",
      "text = tweets['text']"
     ],
     "language": "python",
     "metadata": {},
     "outputs": [],
     "prompt_number": 13
    },
    {
     "cell_type": "code",
     "collapsed": false,
     "input": [],
     "language": "python",
     "metadata": {},
     "outputs": [],
     "prompt_number": 13
    },
    {
     "cell_type": "code",
     "collapsed": false,
     "input": [
      "tokens = []\n",
      "sentences = []\n",
      "for txt in text.values:\n",
      "    sentences.append(txt.lower())\n",
      "    tokens.extend([t.lower().strip(\":,.!?\") for t in txt.split()])\n",
      "\n",
      "hashtags = [w for w in tokens if w.startswith('#')]\n",
      "mentions = [w for w in tokens if w.startswith('@')]\n",
      "links = [w for w in tokens if w.startswith('http') or w.startswith('www')]\n",
      "filtered_tokens = [w for w in tokens \\\n",
      "                   if not w.encode('utf-8') in stop_eng \\\n",
      "                   and not w.encode('utf-8') in stop_ger \\\n",
      "                   and w.isalpha() \\\n",
      "                   and not len(w)<3 \\\n",
      "                   and not w in hashtags \\\n",
      "                   and not w in links \\\n",
      "                   and not w in mentions]"
     ],
     "language": "python",
     "metadata": {},
     "outputs": [],
     "prompt_number": 14
    },
    {
     "cell_type": "heading",
     "level": 2,
     "metadata": {},
     "source": [
      "Top 20"
     ]
    },
    {
     "cell_type": "code",
     "collapsed": false,
     "input": [
      "freq_dist = nltk.FreqDist(filtered_tokens)\n",
      "freq_dist"
     ],
     "language": "python",
     "metadata": {},
     "outputs": [
      {
       "metadata": {},
       "output_type": "pyout",
       "prompt_number": 15,
       "text": [
        "<FreqDist with 3751 samples and 12713 outcomes>"
       ]
      }
     ],
     "prompt_number": 15
    },
    {
     "cell_type": "code",
     "collapsed": false,
     "input": [
      "freq_dist.plot(20)"
     ],
     "language": "python",
     "metadata": {},
     "outputs": [
      {
       "metadata": {},
       "output_type": "display_data",
       "png": "[encoded data removed]",
       "text": [
        "<matplotlib.figure.Figure at 0x10dea7e50>"
       ]
      }
     ],
     "prompt_number": 16
    },
    {
     "cell_type": "code",
     "collapsed": false,
     "input": [
      "tweets.text.str.contains(\"raab\").resample('1t', how='mean').plot()\n",
      "tweets.text.str.contains(\"sandburg\").resample('1t', how='mean').plot()"
     ],
     "language": "python",
     "metadata": {},
     "outputs": [
      {
       "metadata": {},
       "output_type": "pyout",
       "prompt_number": 69,
       "text": [
        "<matplotlib.axes.AxesSubplot at 0x110333ed0>"
       ]
      },
      {
       "metadata": {},
       "output_type": "display_data",
       "png": "[encoded data removed]",
       "text": [
        "<matplotlib.figure.Figure at 0x1101d6f10>"
       ]
      }
     ],
     "prompt_number": 69
    },
    {
     "cell_type": "code",
     "collapsed": false,
     "input": [],
     "language": "python",
     "metadata": {},
     "outputs": [],
     "prompt_number": 63
    },
    {
     "cell_type": "heading",
     "level": 2,
     "metadata": {},
     "source": [
      "Concorance"
     ]
    },
    {
     "cell_type": "code",
     "collapsed": false,
     "input": [
      "tweettokens = nltk.wordpunct_tokenize(unicode(sentences))\n",
      "rawtweettext = nltk.Text(tweettokens)\n",
      "rawtweettext.concordance(\"ente\")"
     ],
     "language": "python",
     "metadata": {},
     "outputs": [
      {
       "output_type": "stream",
       "stream": "stdout",
       "text": [
        "Building index...\n",
        "Displaying 25 of 58 matches:"
       ]
      },
      {
       "output_type": "stream",
       "stream": "stdout",
       "text": [
        "\n",
        "ann heute wird es sich zeigen ob die ente am ende kackt . # sdr ', u ' es steh\n",
        "die grenzen gehen ! am ende kakt die ente ! # aekde @ prosieben ', u ' oh , ic\n",
        "nde . # sdr ', u ' am ende kackt die ente . # sdr ', u ' ich w \\ xfcrde ja ger\n",
        "ut . # sdr ', u '\" am ende kackt die ente !\" # sdr ', u ' diese parkour - auf \n",
        "lbe . # sdr ', u ' am ende kackt die ente . # sdr ', u ' es gibt bestimmt mens\n",
        "pen . # sdr ', u ' am ende kackt die ente ! altes sprichwort , kennt doch jede\n",
        " # sdr lol ', u '\" am ende kackt die ente !\" # sdr ', u ' am ende kackt die en\n",
        "te !\" # sdr ', u ' am ende kackt die ente # sdr ', u '@ frankbuschmann schnell\n",
        "ion . # sdr ', u ' am ende kackt die ente \\ njetzt kommen wieder die lebenswei\n",
        "e ? # sdr ?', u '\" am ende kackt die ente !\" # sdr ', u '\\ u201eam ende kackt \n",
        "# sdr ', u '\\ u201eam ende kackt die ente !\\ u201c \\ u2013 buschi 2014 # sdr '\n",
        " 1s3dllnxmd ', u ' am ende kackt die ente . # sdr ', u ' buschi macht werbung \n",
        "tyfvvg ', u '# sdr am ende kackt die ente .', u ' am ende kackt die ente . # s\n",
        "t die ente .', u ' am ende kackt die ente . # sdr ', u ' am ende kackt die ent\n",
        "nte . # sdr ', u ' am ende kackt die ente . # buschi # sdr ', u ' am ende kack\n",
        "uschi # sdr ', u ' am ende kackt die ente ! # sdr ', u ' rt @ werkarniggel : a\n",
        "t @ werkarniggel : am ende kackt die ente ! altes sprichwort , kennt doch jede\n",
        "raab # sdr ', u '\" am ende kackt die ente !\" - @ frankbuschmann # sdr ', u '\" \n",
        " # sdr ', u '\" und am ende kackt die ente .\" # sdr ', u ' rt @ dodomedia : \" a\n",
        "rt @ dodomedia : \" am ende kackt die ente !\" # sdr ', u ' bin mal tourim \\ xe4\n",
        "t ?\" # sdr ', u '\" am ende kackt die ente \" - \" hinten kommen die dicken fisch\n",
        "hlagdenraab ', u ' am ende kackt die ente . und die dicken fische applaudieren\n",
        "hmann starke werbung da eben mit der ente !! : d : d : d : d # wade # sdr ', u\n",
        "sen . # sdr ', u ' am ende kackt die ente ? # sdr ', u '\" am ende kackt die en\n",
        "te ? # sdr ', u '\" am ende kackt die ente \" was soll das bedeuten ?! ? _ ? # s\n"
       ]
      }
     ],
     "prompt_number": 71
    },
    {
     "cell_type": "code",
     "collapsed": false,
     "input": [
      "rawtweettext.similar('raab')"
     ],
     "language": "python",
     "metadata": {},
     "outputs": [
      {
       "output_type": "stream",
       "stream": "stdout",
       "text": [
        "stefan das sdr rt prosieben was sandburg der g buschi frankbuschmann\n",
        "ich kandidat max n warum d maximilian wer burg\n"
       ]
      }
     ],
     "prompt_number": 73
    },
    {
     "cell_type": "heading",
     "level": 2,
     "metadata": {},
     "source": [
      "Collocations"
     ]
    },
    {
     "cell_type": "code",
     "collapsed": false,
     "input": [
      "tweettext = nltk.Text(filtered_tokens)\n",
      "tweettext.collocations()"
     ],
     "language": "python",
     "metadata": {},
     "outputs": [
      {
       "output_type": "stream",
       "stream": "stdout",
       "text": [
        "Building collocations list\n",
        "ende kackt; hut hogwarts; m\u00eame fier; petits r\u00e9mois; fier vous; les\n",
        "petits; est quand; quand m\u00eame; vous les; kackt ente; erdinger\n",
        "alkoholfrei; zwischenstand hoch; enges h\u00f6schen; hoch lag; katholiken\n",
        "drehen; comunicacion nacionales; dinero hacia; estado rep\u00fablica; fluya\n",
        "tanto; medios comunicacion"
       ]
      },
      {
       "output_type": "stream",
       "stream": "stdout",
       "text": [
        "\n"
       ]
      }
     ],
     "prompt_number": 65
    },
    {
     "cell_type": "code",
     "collapsed": false,
     "input": [],
     "language": "python",
     "metadata": {},
     "outputs": [],
     "prompt_number": 65
    },
    {
     "cell_type": "code",
     "collapsed": false,
     "input": [],
     "language": "python",
     "metadata": {},
     "outputs": [],
     "prompt_number": 65
    },
    {
     "cell_type": "heading",
     "level": 2,
     "metadata": {},
     "source": [
      "Search for Words"
     ]
    },
    {
     "cell_type": "code",
     "collapsed": false,
     "input": [
      "fdist = nltk.FreqDist([w.lower() for w in tweettext])\n",
      "modals = ['gewinnen', 'verlieren', 'peinlich', 'gewonnen', 'raab', 'will']\n",
      "for m in modals:\n",
      "    print m + ':', fdist[m],"
     ],
     "language": "python",
     "metadata": {},
     "outputs": [
      {
       "output_type": "stream",
       "stream": "stdout",
       "text": [
        "gewinnen: 25 verlieren: 1 peinlich: 0 gewonnen: 15 raab: 409 will: 0\n"
       ]
      }
     ],
     "prompt_number": 66
    },
    {
     "cell_type": "heading",
     "level": 2,
     "metadata": {},
     "source": [
      "People Involved"
     ]
    },
    {
     "cell_type": "code",
     "collapsed": false,
     "input": [
      "names = nltk.corpus.names"
     ],
     "language": "python",
     "metadata": {},
     "outputs": [],
     "prompt_number": 67
    },
    {
     "cell_type": "code",
     "collapsed": false,
     "input": [
      "namen = [n.lower() for n in names.words('male.txt') or names.words('female.txt')]"
     ],
     "language": "python",
     "metadata": {},
     "outputs": [],
     "prompt_number": 68
    },
    {
     "cell_type": "code",
     "collapsed": false,
     "input": [
      "name_freq = nltk.FreqDist([w for w in filtered_tokens if w in namen])"
     ],
     "language": "python",
     "metadata": {},
     "outputs": [],
     "prompt_number": 69
    },
    {
     "cell_type": "code",
     "collapsed": false,
     "input": [
      "s = []\n",
      "x = []\n",
      "y = []\n",
      "for val in name_freq.values():\n",
      "    sn = float(val)/np.max(name_freq.values()) # Normalize\n",
      "    if sn<0.2:  # ignore unimportant names below this\n",
      "        continue\n",
      "    s.append((100.0*sn)**2) # size of bubble\n",
      "da = 2.0*np.pi/(len(s)-1)\n",
      "for p in range(len(s)):\n",
      "    a=p*da   # angle\n",
      "    r=0.1/np.sqrt(s[p])\n",
      "    if p==0: # most important name in the middle\n",
      "        plt.text(0,0,name_freq.keys()[p], ha='center', va='center')\n",
      "        x.append(0)\n",
      "        y.append(0)\n",
      "    else:\n",
      "        plt.text(np.cos(a)*r,np.sin(a)*r,name_freq.keys()[p], ha='center', va='center')\n",
      "        x.append(np.cos(a)*r)\n",
      "        y.append(np.sin(a)*r)\n",
      "        \n",
      "    \n",
      "\n",
      "plt.scatter(x=x, y=y, s=s, alpha=0.5)\n",
      "plt.axis('equal')\n",
      "plt.axis('off');\n",
      "plt.title('important people');"
     ],
     "language": "python",
     "metadata": {},
     "outputs": [
      {
       "metadata": {},
       "output_type": "display_data",
       "png": "[encoded data removed]",
       "text": [
        "<matplotlib.figure.Figure at 0x11242c0d0>"
       ]
      }
     ],
     "prompt_number": 70
    },
    {
     "cell_type": "heading",
     "level": 2,
     "metadata": {},
     "source": [
      "Dispersion Plot"
     ]
    },
    {
     "cell_type": "markdown",
     "metadata": {},
     "source": [
      "Determine the location of a word in the text: how many words from the beginning it appears. This positional information can be displayed using a dispersion plot."
     ]
    },
    {
     "cell_type": "code",
     "collapsed": false,
     "input": [
      "rawtweettext.dispersion_plot([\"stefan\", \"maximilian\"])"
     ],
     "language": "python",
     "metadata": {},
     "outputs": [
      {
       "metadata": {},
       "output_type": "display_data",
       "png": "[encoded data removed]",
       "text": [
        "<matplotlib.figure.Figure at 0x111b92050>"
       ]
      }
     ],
     "prompt_number": 80
    },
    {
     "cell_type": "code",
     "collapsed": false,
     "input": [],
     "language": "python",
     "metadata": {},
     "outputs": [],
     "prompt_number": 70
    },
    {
     "cell_type": "code",
     "collapsed": false,
     "input": [],
     "language": "python",
     "metadata": {},
     "outputs": [],
     "prompt_number": 70
    }
   ],
   "metadata": {}
  }
 ]
}